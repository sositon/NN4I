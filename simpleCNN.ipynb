{
  "cells": [
    {
      "cell_type": "code",
      "execution_count": null,
      "metadata": {
        "colab": {
          "base_uri": "https://localhost:8080/"
        },
        "id": "bJ0iD2kX2dyJ",
        "outputId": "16ee3a2f-5870-47df-b8e2-c03f863523bb"
      },
      "outputs": [
        {
          "name": "stdout",
          "output_type": "stream",
          "text": [
            "Looking in indexes: https://pypi.org/simple, https://us-python.pkg.dev/colab-wheels/public/simple/\n",
            "Requirement already satisfied: wandb in /usr/local/lib/python3.9/dist-packages (0.14.0)\n",
            "Requirement already satisfied: sentry-sdk>=1.0.0 in /usr/local/lib/python3.9/dist-packages (from wandb) (1.18.0)\n",
            "Requirement already satisfied: pathtools in /usr/local/lib/python3.9/dist-packages (from wandb) (0.1.2)\n",
            "Requirement already satisfied: PyYAML in /usr/local/lib/python3.9/dist-packages (from wandb) (6.0)\n",
            "Requirement already satisfied: psutil>=5.0.0 in /usr/local/lib/python3.9/dist-packages (from wandb) (5.9.4)\n",
            "Requirement already satisfied: Click!=8.0.0,>=7.0 in /usr/local/lib/python3.9/dist-packages (from wandb) (8.1.3)\n",
            "Requirement already satisfied: setproctitle in /usr/local/lib/python3.9/dist-packages (from wandb) (1.3.2)\n",
            "Requirement already satisfied: requests<3,>=2.0.0 in /usr/local/lib/python3.9/dist-packages (from wandb) (2.27.1)\n",
            "Requirement already satisfied: appdirs>=1.4.3 in /usr/local/lib/python3.9/dist-packages (from wandb) (1.4.4)\n",
            "Requirement already satisfied: typing-extensions in /usr/local/lib/python3.9/dist-packages (from wandb) (4.5.0)\n",
            "Requirement already satisfied: setuptools in /usr/local/lib/python3.9/dist-packages (from wandb) (67.6.0)\n",
            "Requirement already satisfied: docker-pycreds>=0.4.0 in /usr/local/lib/python3.9/dist-packages (from wandb) (0.4.0)\n",
            "Requirement already satisfied: GitPython!=3.1.29,>=1.0.0 in /usr/local/lib/python3.9/dist-packages (from wandb) (3.1.31)\n",
            "Requirement already satisfied: protobuf!=4.21.0,<5,>=3.15.0 in /usr/local/lib/python3.9/dist-packages (from wandb) (3.19.6)\n",
            "Requirement already satisfied: six>=1.4.0 in /usr/local/lib/python3.9/dist-packages (from docker-pycreds>=0.4.0->wandb) (1.16.0)\n",
            "Requirement already satisfied: gitdb<5,>=4.0.1 in /usr/local/lib/python3.9/dist-packages (from GitPython!=3.1.29,>=1.0.0->wandb) (4.0.10)\n",
            "Requirement already satisfied: charset-normalizer~=2.0.0 in /usr/local/lib/python3.9/dist-packages (from requests<3,>=2.0.0->wandb) (2.0.12)\n",
            "Requirement already satisfied: certifi>=2017.4.17 in /usr/local/lib/python3.9/dist-packages (from requests<3,>=2.0.0->wandb) (2022.12.7)\n",
            "Requirement already satisfied: urllib3<1.27,>=1.21.1 in /usr/local/lib/python3.9/dist-packages (from requests<3,>=2.0.0->wandb) (1.26.15)\n",
            "Requirement already satisfied: idna<4,>=2.5 in /usr/local/lib/python3.9/dist-packages (from requests<3,>=2.0.0->wandb) (3.4)\n",
            "Requirement already satisfied: smmap<6,>=3.0.1 in /usr/local/lib/python3.9/dist-packages (from gitdb<5,>=4.0.1->GitPython!=3.1.29,>=1.0.0->wandb) (5.0.0)\n",
            "\u001b[34m\u001b[1mwandb\u001b[0m: Currently logged in as: \u001b[33momersiton\u001b[0m. Use \u001b[1m`wandb login --relogin`\u001b[0m to force relogin\n"
          ]
        }
      ],
      "source": [
        "%matplotlib inline\n",
        "!pip install wandb\n",
        "!wandb login"
      ]
    },
    {
      "cell_type": "code",
      "execution_count": null,
      "metadata": {
        "id": "jHY5o5g225an"
      },
      "outputs": [],
      "source": [
        "import torch\n",
        "import torchvision\n",
        "import torchvision.transforms as transforms\n",
        "from torch.utils.data import Subset\n",
        "from torch.utils.data import dataloader\n",
        "import torch.nn as nn\n",
        "import torch.nn.functional as F\n",
        "import wandb\n",
        "import torch.optim as optim"
      ]
    },
    {
      "cell_type": "markdown",
      "metadata": {
        "id": "bNd6E2Cy2ywY"
      },
      "source": [
        "## Load and normalize CIFAR10"
      ]
    },
    {
      "cell_type": "code",
      "execution_count": null,
      "metadata": {
        "colab": {
          "base_uri": "https://localhost:8080/"
        },
        "id": "SCgzBjRh20q-",
        "outputId": "e6ce567d-9eb8-4cda-b235-09c41d584c70"
      },
      "outputs": [
        {
          "name": "stdout",
          "output_type": "stream",
          "text": [
            "Files already downloaded and verified\n",
            "10000\n",
            "Files already downloaded and verified\n",
            "2000\n"
          ]
        }
      ],
      "source": [
        "transform = transforms.Compose(\n",
        "    [transforms.ToTensor(),\n",
        "     transforms.Normalize((0.5, 0.5, 0.5), (0.5, 0.5, 0.5))])\n",
        "\n",
        "batch_size = 5\n",
        "\n",
        "trainset = torchvision.datasets.CIFAR10(root='./data', train=True,\n",
        "                                        download=True, transform=transform)\n",
        "\n",
        "trainset_subset = Subset(trainset, range(50000))\n",
        "\n",
        "trainloader = torch.utils.data.DataLoader(trainset_subset, batch_size=batch_size,\n",
        "                                          shuffle=True, num_workers=2)\n",
        "print(len(trainloader))\n",
        "\n",
        "testset = torchvision.datasets.CIFAR10(root='./data', train=False,\n",
        "                                       download=True, transform=transform)\n",
        "\n",
        "testset_subset = Subset(testset, range(10000))\n",
        "\n",
        "testloader = torch.utils.data.DataLoader(testset_subset, batch_size=batch_size,\n",
        "                                         shuffle=False, num_workers=2)\n",
        "print(len(testloader))\n",
        "\n",
        "classes = ('plane', 'car', 'bird', 'cat',\n",
        "           'deer', 'dog', 'frog', 'horse', 'ship', 'truck')"
      ]
    },
    {
      "cell_type": "markdown",
      "metadata": {
        "id": "nSQ3CJZEZ_9x"
      },
      "source": [
        "##Helper Functions"
      ]
    },
    {
      "cell_type": "markdown",
      "metadata": {
        "id": "LawaDBV53PH7"
      },
      "source": [
        "###Initalize W&B"
      ]
    },
    {
      "cell_type": "code",
      "execution_count": null,
      "metadata": {
        "id": "Qoo4EKM43atR"
      },
      "outputs": [],
      "source": [
        "def init_wb():\n",
        "  # start a new wandb run to track this script\n",
        "  wandb.init(\n",
        "      # set the wandb project where this run will be logged\n",
        "      project=\"NN.Ex1\",\n",
        "      \n",
        "      # track hyperparameters and run metadata\n",
        "      config={\n",
        "      \"learning_rate\": 0.001,\n",
        "      \"architecture\": \"CNN\",\n",
        "      \"dataset\": \"CIFAR-10\",\n",
        "      \"epochs\": 10,\n",
        "      \"device\": device,\n",
        "      \"#neurons\": sum(p.numel() for p in net.parameters() if p.requires_grad)\n",
        "      }\n",
        "  )\n"
      ]
    },
    {
      "cell_type": "markdown",
      "metadata": {
        "id": "vV68J5t48mrP"
      },
      "source": [
        "### Accuracy "
      ]
    },
    {
      "cell_type": "code",
      "execution_count": null,
      "metadata": {
        "id": "pWsPz4Xt8qd9"
      },
      "outputs": [],
      "source": [
        "def accuracy():\n",
        "  correct = 0\n",
        "  total = 0\n",
        "  # since we're not training, we don't need to calculate the gradients for our outputs\n",
        "  with torch.no_grad():\n",
        "      for data in testloader:\n",
        "          images, labels = data[0].to(device), data[1].to(device)\n",
        "          # calculate outputs by running images through the network\n",
        "          outputs = net(images)\n",
        "          # the class with the highest energy is what we choose as prediction\n",
        "          _, predicted = torch.max(outputs.data, 1)\n",
        "          total += labels.size(0)\n",
        "          correct += (predicted == labels).sum().item()\n",
        "\n",
        "  print(f'Accuracy of the network on the 10000 test images: {100 * correct // total} %')"
      ]
    },
    {
      "cell_type": "markdown",
      "metadata": {
        "id": "PNlaLpbY8sd_"
      },
      "source": [
        "### Accuracy by Class\n"
      ]
    },
    {
      "cell_type": "code",
      "execution_count": null,
      "metadata": {
        "id": "Kk0SCVn98xd9"
      },
      "outputs": [],
      "source": [
        "def accuracy_by_class():\n",
        "  # prepare to count predictions for each class\n",
        "  correct_pred = {classname: 0 for classname in classes}\n",
        "  total_pred = {classname: 0 for classname in classes}\n",
        "\n",
        "  # again no gradients needed\n",
        "  with torch.no_grad():\n",
        "      for data in testloader:\n",
        "          images, labels = data[0].to(device), data[1].to(device)\n",
        "          outputs = net(images)\n",
        "          _, predictions = torch.max(outputs, 1)\n",
        "          # collect the correct predictions for each class\n",
        "          for label, prediction in zip(labels, predictions):\n",
        "              if label == prediction:\n",
        "                  correct_pred[classes[label]] += 1\n",
        "              total_pred[classes[label]] += 1\n",
        "\n",
        "\n",
        "  # print accuracy for each class\n",
        "  for classname, correct_count in correct_pred.items():\n",
        "      accuracy = 100 * float(correct_count) / total_pred[classname]\n",
        "      print(f'Accuracy for class: {classname:5s} is {accuracy:.1f} %')"
      ]
    },
    {
      "cell_type": "markdown",
      "metadata": {
        "id": "ZlT_afgI8Fdh"
      },
      "source": [
        "### Train the network\n"
      ]
    },
    {
      "cell_type": "code",
      "execution_count": null,
      "metadata": {
        "id": "Iqz2iksJ8H0E"
      },
      "outputs": [],
      "source": [
        "\n",
        "def train_net():\n",
        "  for epoch in range(wandb.config.epochs):  # loop over the dataset multiple times\n",
        "\n",
        "      running_loss = 0.0\n",
        "      train_loss = 0.0\n",
        "      for i, data in enumerate(trainloader, 0):\n",
        "          # get the images; data is a list of [images, labels]\n",
        "          images, labels = data[0].to(device), data[1].to(device)\n",
        "\n",
        "          # zero the parameter gradients\n",
        "          optimizer.zero_grad()\n",
        "\n",
        "          # forward + backward + optimize\n",
        "          outputs = net(images)\n",
        "          loss = criterion(outputs, labels)\n",
        "          loss.backward()\n",
        "          optimizer.step()\n",
        "\n",
        "          # print statistics\n",
        "          running_loss += loss.item()\n",
        "          if i % 2000 == 1999:    # print every 2000 mini-batches\n",
        "              print(f'[{epoch + 1}, {i + 1:5d}] loss: {running_loss / 2000:.3f}')\n",
        "              train_loss += running_loss / 2000\n",
        "              running_loss = 0.0\n",
        "\n",
        "      # compute and print test loss at the end of each epoch\n",
        "      test_loss = 0.0\n",
        "      with torch.no_grad():\n",
        "          for data in testloader:\n",
        "              images, labels = data[0].to(device), data[1].to(device)\n",
        "              outputs = net(images)\n",
        "              test_loss += criterion(outputs, labels).item()\n",
        "\n",
        "      print('Epoch %d, Test loss: %.3f' % (epoch + 1, test_loss / len(testloader)))\n",
        "      wandb.log({'Test loss / Epoch' : test_loss / len(testloader),\n",
        "                'Train loss / Epoch' : train_loss / int(len(trainloader)/2000)})\n",
        "\n",
        "  print('Finished Training')"
      ]
    },
    {
      "cell_type": "markdown",
      "metadata": {
        "id": "3clZi48S34Gr"
      },
      "source": [
        "## Define Convolutional Neural Network Classes"
      ]
    },
    {
      "cell_type": "code",
      "execution_count": null,
      "metadata": {
        "colab": {
          "background_save": true,
          "base_uri": "https://localhost:8080/",
          "height": 1000,
          "referenced_widgets": [
            "15c2088cf115441793d36353e8c57e99",
            "1fec0617b8984d7595b4a0f3a1a00543",
            "00f3f376693644c4946490576a47cbb9",
            "9e0bd7574bc04c71906e9955d2d3705c",
            "ab54a9d99bcd4720a6500ac6f0c0444a",
            "f89a455936ca466ca2997cd88b6e686c",
            "4802c7ead1f1425994f745255225558e",
            "8ee4303bcf5f440c9ef6b0615d9b4355",
            "57d5909ccaa747dd9cf0270ea5b2eecf",
            "3c72cd9b9b5e44eca1270899d5318a32",
            "8ebefd83a5304cdea8f5c67603b0be93",
            "efc7b4758aee465db7dbd784f5be3a58",
            "1cc7e54b64064d7dbc9552b83166f9e5",
            "540a4a357283436c8c59d32b58aae701",
            "8a10aeae451f4fbdaba63f68e31f2446",
            "89ff55908559465d92797d86dcb7978c",
            "3ddef078042741878e5c95720921b0b0",
            "fdbd92049b434e4b831dbee532806c80",
            "ef14e8df9f204639aee9c111844c24ee",
            "fdf6b05d2a7c45cca3294b87d03a4826",
            "0e6c6e51de784bd7be74eff9bdcdfef7",
            "318f585450174cfea2c76baa23bdcb0b",
            "a2808dfe20374ee18cf127b49e56d528",
            "0ebecee08b8c436bad04ab3ef44b5c87",
            "a416c5428d494200813c1bc5d12829c5",
            "44acd01aedd8444abce793e3e9c9c354",
            "5d8ae7c2ccda41629437dd495b33ebc6",
            "9e970e8911ce407aa156cad76dc6ab20",
            "0b294fd482d74ff6bc4784e6be3e7f34",
            "1a659812a38e4d74b18707f607f57a50",
            "0f3a5fd2e3ab41c781e30facb8e7e1e5",
            "72b90bf33c964a71a55455cf3068017b"
          ]
        },
        "id": "6LkQbbqW36Na",
        "outputId": "a5f30c82-b272-43c1-f0d2-835fb8e6cd67"
      },
      "outputs": [
        {
          "name": "stdout",
          "output_type": "stream",
          "text": [
            "Network depth - 1, Block depth - 1\n",
            "41418\n"
          ]
        },
        {
          "data": {
            "text/html": [
              "Finishing last run (ID:dg1niw31) before initializing another..."
            ],
            "text/plain": [
              "<IPython.core.display.HTML object>"
            ]
          },
          "metadata": {},
          "output_type": "display_data"
        },
        {
          "data": {
            "text/html": [
              "Waiting for W&B process to finish... <strong style=\"color:green\">(success).</strong>"
            ],
            "text/plain": [
              "<IPython.core.display.HTML object>"
            ]
          },
          "metadata": {},
          "output_type": "display_data"
        },
        {
          "data": {
            "application/vnd.jupyter.widget-view+json": {
              "model_id": "15c2088cf115441793d36353e8c57e99",
              "version_major": 2,
              "version_minor": 0
            },
            "text/plain": [
              "VBox(children=(Label(value='0.001 MB of 0.001 MB uploaded (0.000 MB deduped)\\r'), FloatProgress(value=1.0, max…"
            ]
          },
          "metadata": {},
          "output_type": "display_data"
        },
        {
          "data": {
            "text/html": [
              "<style>\n",
              "    table.wandb td:nth-child(1) { padding: 0 10px; text-align: left ; width: auto;} td:nth-child(2) {text-align: left ; width: 100%}\n",
              "    .wandb-row { display: flex; flex-direction: row; flex-wrap: wrap; justify-content: flex-start; width: 100% }\n",
              "    .wandb-col { display: flex; flex-direction: column; flex-basis: 100%; flex: 1; padding: 10px; }\n",
              "    </style>\n",
              "<div class=\"wandb-row\"><div class=\"wandb-col\"><h3>Run history:</h3><br/><table class=\"wandb\"><tr><td>Test loss / Epoch</td><td>█▅▃▂▁▁▂▆▅▅▅</td></tr><tr><td>Train loss / Epoch</td><td>█▅▄▃▂▁▁▆▅▄▄</td></tr></table><br/></div><div class=\"wandb-col\"><h3>Run summary:</h3><br/><table class=\"wandb\"><tr><td>Test loss / Epoch</td><td>1.14152</td></tr><tr><td>Train loss / Epoch</td><td>1.03984</td></tr></table><br/></div></div>"
            ],
            "text/plain": [
              "<IPython.core.display.HTML object>"
            ]
          },
          "metadata": {},
          "output_type": "display_data"
        },
        {
          "data": {
            "text/html": [
              " View run <strong style=\"color:#cdcd00\">chocolate-sound-54</strong> at: <a href='https://wandb.ai/omersiton/NN.Ex1/runs/dg1niw31' target=\"_blank\">https://wandb.ai/omersiton/NN.Ex1/runs/dg1niw31</a><br/>Synced 5 W&B file(s), 0 media file(s), 0 artifact file(s) and 0 other file(s)"
            ],
            "text/plain": [
              "<IPython.core.display.HTML object>"
            ]
          },
          "metadata": {},
          "output_type": "display_data"
        },
        {
          "data": {
            "text/html": [
              "Find logs at: <code>./wandb/run-20230329_165309-dg1niw31/logs</code>"
            ],
            "text/plain": [
              "<IPython.core.display.HTML object>"
            ]
          },
          "metadata": {},
          "output_type": "display_data"
        },
        {
          "data": {
            "text/html": [
              "Successfully finished last run (ID:dg1niw31). Initializing new run:<br/>"
            ],
            "text/plain": [
              "<IPython.core.display.HTML object>"
            ]
          },
          "metadata": {},
          "output_type": "display_data"
        },
        {
          "data": {
            "text/html": [
              "Tracking run with wandb version 0.14.0"
            ],
            "text/plain": [
              "<IPython.core.display.HTML object>"
            ]
          },
          "metadata": {},
          "output_type": "display_data"
        },
        {
          "data": {
            "text/html": [
              "Run data is saved locally in <code>/content/wandb/run-20230329_175252-viy8qlhz</code>"
            ],
            "text/plain": [
              "<IPython.core.display.HTML object>"
            ]
          },
          "metadata": {},
          "output_type": "display_data"
        },
        {
          "data": {
            "text/html": [
              "Syncing run <strong><a href='https://wandb.ai/omersiton/NN.Ex1/runs/viy8qlhz' target=\"_blank\">prime-durian-55</a></strong> to <a href='https://wandb.ai/omersiton/NN.Ex1' target=\"_blank\">Weights & Biases</a> (<a href='https://wandb.me/run' target=\"_blank\">docs</a>)<br/>"
            ],
            "text/plain": [
              "<IPython.core.display.HTML object>"
            ]
          },
          "metadata": {},
          "output_type": "display_data"
        },
        {
          "data": {
            "text/html": [
              " View project at <a href='https://wandb.ai/omersiton/NN.Ex1' target=\"_blank\">https://wandb.ai/omersiton/NN.Ex1</a>"
            ],
            "text/plain": [
              "<IPython.core.display.HTML object>"
            ]
          },
          "metadata": {},
          "output_type": "display_data"
        },
        {
          "data": {
            "text/html": [
              " View run at <a href='https://wandb.ai/omersiton/NN.Ex1/runs/viy8qlhz' target=\"_blank\">https://wandb.ai/omersiton/NN.Ex1/runs/viy8qlhz</a>"
            ],
            "text/plain": [
              "<IPython.core.display.HTML object>"
            ]
          },
          "metadata": {},
          "output_type": "display_data"
        },
        {
          "name": "stdout",
          "output_type": "stream",
          "text": [
            "[1,  2000] loss: 1.766\n",
            "[1,  4000] loss: 1.455\n",
            "[1,  6000] loss: 1.394\n",
            "[1,  8000] loss: 1.344\n",
            "[1, 10000] loss: 1.320\n",
            "Epoch 1, Test loss: 1.277\n",
            "[2,  2000] loss: 1.242\n",
            "[2,  4000] loss: 1.202\n",
            "[2,  6000] loss: 1.218\n",
            "[2,  8000] loss: 1.222\n",
            "[2, 10000] loss: 1.172\n",
            "Epoch 2, Test loss: 1.176\n",
            "[3,  2000] loss: 1.121\n",
            "[3,  4000] loss: 1.114\n",
            "[3,  6000] loss: 1.117\n",
            "[3,  8000] loss: 1.117\n",
            "[3, 10000] loss: 1.106\n",
            "Epoch 3, Test loss: 1.188\n",
            "[4,  2000] loss: 1.037\n",
            "[4,  4000] loss: 1.048\n",
            "[4,  6000] loss: 1.047\n",
            "[4,  8000] loss: 1.070\n",
            "[4, 10000] loss: 1.077\n",
            "Epoch 4, Test loss: 1.134\n",
            "[5,  2000] loss: 0.988\n",
            "[5,  4000] loss: 1.014\n",
            "[5,  6000] loss: 1.018\n",
            "[5,  8000] loss: 1.021\n",
            "[5, 10000] loss: 1.039\n",
            "Epoch 5, Test loss: 1.142\n",
            "[6,  2000] loss: 0.940\n",
            "[6,  4000] loss: 0.972\n",
            "[6,  6000] loss: 0.981\n",
            "[6,  8000] loss: 1.007\n",
            "[6, 10000] loss: 1.015\n",
            "Epoch 6, Test loss: 1.194\n",
            "[7,  2000] loss: 0.918\n",
            "[7,  4000] loss: 0.939\n",
            "[7,  6000] loss: 0.963\n",
            "[7,  8000] loss: 0.981\n",
            "[7, 10000] loss: 0.971\n",
            "Epoch 7, Test loss: 1.238\n",
            "[8,  2000] loss: 0.889\n",
            "[8,  4000] loss: 0.936\n",
            "[8,  6000] loss: 0.942\n",
            "[8,  8000] loss: 0.938\n",
            "[8, 10000] loss: 0.969\n",
            "Epoch 8, Test loss: 1.209\n",
            "[9,  2000] loss: 0.879\n",
            "[9,  4000] loss: 0.897\n",
            "[9,  6000] loss: 0.923\n",
            "[9,  8000] loss: 0.924\n",
            "[9, 10000] loss: 0.960\n",
            "Epoch 9, Test loss: 1.228\n",
            "[10,  2000] loss: 0.845\n",
            "[10,  4000] loss: 0.887\n",
            "[10,  6000] loss: 0.904\n",
            "[10,  8000] loss: 0.918\n",
            "[10, 10000] loss: 0.947\n",
            "Epoch 10, Test loss: 1.226\n",
            "Finished Training\n",
            "Accuracy of the network on the 10000 test images: 60 %\n",
            "Accuracy for class: plane is 55.7 %\n",
            "Accuracy for class: car   is 79.8 %\n",
            "Accuracy for class: bird  is 35.3 %\n",
            "Accuracy for class: cat   is 46.6 %\n",
            "Accuracy for class: deer  is 68.7 %\n",
            "Accuracy for class: dog   is 58.8 %\n",
            "Accuracy for class: frog  is 62.6 %\n",
            "Accuracy for class: horse is 65.3 %\n",
            "Accuracy for class: ship  is 65.9 %\n",
            "Accuracy for class: truck is 62.7 %\n",
            "Network depth - 1, Block depth - 3\n",
            "46058\n"
          ]
        },
        {
          "data": {
            "text/html": [
              "Finishing last run (ID:viy8qlhz) before initializing another..."
            ],
            "text/plain": [
              "<IPython.core.display.HTML object>"
            ]
          },
          "metadata": {},
          "output_type": "display_data"
        },
        {
          "data": {
            "text/html": [
              "Waiting for W&B process to finish... <strong style=\"color:green\">(success).</strong>"
            ],
            "text/plain": [
              "<IPython.core.display.HTML object>"
            ]
          },
          "metadata": {},
          "output_type": "display_data"
        },
        {
          "data": {
            "application/vnd.jupyter.widget-view+json": {
              "model_id": "57d5909ccaa747dd9cf0270ea5b2eecf",
              "version_major": 2,
              "version_minor": 0
            },
            "text/plain": [
              "VBox(children=(Label(value='0.001 MB of 0.001 MB uploaded (0.000 MB deduped)\\r'), FloatProgress(value=1.0, max…"
            ]
          },
          "metadata": {},
          "output_type": "display_data"
        },
        {
          "data": {
            "text/html": [
              "<style>\n",
              "    table.wandb td:nth-child(1) { padding: 0 10px; text-align: left ; width: auto;} td:nth-child(2) {text-align: left ; width: 100%}\n",
              "    .wandb-row { display: flex; flex-direction: row; flex-wrap: wrap; justify-content: flex-start; width: 100% }\n",
              "    .wandb-col { display: flex; flex-direction: column; flex-basis: 100%; flex: 1; padding: 10px; }\n",
              "    </style>\n",
              "<div class=\"wandb-row\"><div class=\"wandb-col\"><h3>Run history:</h3><br/><table class=\"wandb\"><tr><td>Test loss / Epoch</td><td>█▃▄▁▁▄▆▅▆▆</td></tr><tr><td>Train loss / Epoch</td><td>█▅▄▃▂▂▂▁▁▁</td></tr></table><br/></div><div class=\"wandb-col\"><h3>Run summary:</h3><br/><table class=\"wandb\"><tr><td>Test loss / Epoch</td><td>1.22631</td></tr><tr><td>Train loss / Epoch</td><td>0.90018</td></tr></table><br/></div></div>"
            ],
            "text/plain": [
              "<IPython.core.display.HTML object>"
            ]
          },
          "metadata": {},
          "output_type": "display_data"
        },
        {
          "data": {
            "text/html": [
              " View run <strong style=\"color:#cdcd00\">prime-durian-55</strong> at: <a href='https://wandb.ai/omersiton/NN.Ex1/runs/viy8qlhz' target=\"_blank\">https://wandb.ai/omersiton/NN.Ex1/runs/viy8qlhz</a><br/>Synced 5 W&B file(s), 0 media file(s), 0 artifact file(s) and 0 other file(s)"
            ],
            "text/plain": [
              "<IPython.core.display.HTML object>"
            ]
          },
          "metadata": {},
          "output_type": "display_data"
        },
        {
          "data": {
            "text/html": [
              "Find logs at: <code>./wandb/run-20230329_175252-viy8qlhz/logs</code>"
            ],
            "text/plain": [
              "<IPython.core.display.HTML object>"
            ]
          },
          "metadata": {},
          "output_type": "display_data"
        },
        {
          "data": {
            "text/html": [
              "Successfully finished last run (ID:viy8qlhz). Initializing new run:<br/>"
            ],
            "text/plain": [
              "<IPython.core.display.HTML object>"
            ]
          },
          "metadata": {},
          "output_type": "display_data"
        },
        {
          "data": {
            "text/html": [
              "Tracking run with wandb version 0.14.0"
            ],
            "text/plain": [
              "<IPython.core.display.HTML object>"
            ]
          },
          "metadata": {},
          "output_type": "display_data"
        },
        {
          "data": {
            "text/html": [
              "Run data is saved locally in <code>/content/wandb/run-20230329_180106-9bes908s</code>"
            ],
            "text/plain": [
              "<IPython.core.display.HTML object>"
            ]
          },
          "metadata": {},
          "output_type": "display_data"
        },
        {
          "data": {
            "text/html": [
              "Syncing run <strong><a href='https://wandb.ai/omersiton/NN.Ex1/runs/9bes908s' target=\"_blank\">sleek-universe-56</a></strong> to <a href='https://wandb.ai/omersiton/NN.Ex1' target=\"_blank\">Weights & Biases</a> (<a href='https://wandb.me/run' target=\"_blank\">docs</a>)<br/>"
            ],
            "text/plain": [
              "<IPython.core.display.HTML object>"
            ]
          },
          "metadata": {},
          "output_type": "display_data"
        },
        {
          "data": {
            "text/html": [
              " View project at <a href='https://wandb.ai/omersiton/NN.Ex1' target=\"_blank\">https://wandb.ai/omersiton/NN.Ex1</a>"
            ],
            "text/plain": [
              "<IPython.core.display.HTML object>"
            ]
          },
          "metadata": {},
          "output_type": "display_data"
        },
        {
          "data": {
            "text/html": [
              " View run at <a href='https://wandb.ai/omersiton/NN.Ex1/runs/9bes908s' target=\"_blank\">https://wandb.ai/omersiton/NN.Ex1/runs/9bes908s</a>"
            ],
            "text/plain": [
              "<IPython.core.display.HTML object>"
            ]
          },
          "metadata": {},
          "output_type": "display_data"
        },
        {
          "name": "stdout",
          "output_type": "stream",
          "text": [
            "[1,  2000] loss: 1.717\n",
            "[1,  4000] loss: 1.405\n",
            "[1,  6000] loss: 1.303\n",
            "[1,  8000] loss: 1.238\n",
            "[1, 10000] loss: 1.191\n",
            "Epoch 1, Test loss: 1.187\n",
            "[2,  2000] loss: 1.055\n",
            "[2,  4000] loss: 1.060\n",
            "[2,  6000] loss: 1.025\n",
            "[2,  8000] loss: 1.027\n",
            "[2, 10000] loss: 1.030\n",
            "Epoch 2, Test loss: 1.086\n",
            "[3,  2000] loss: 0.910\n",
            "[3,  4000] loss: 0.938\n",
            "[3,  6000] loss: 0.943\n",
            "[3,  8000] loss: 0.938\n",
            "[3, 10000] loss: 0.949\n",
            "Epoch 3, Test loss: 1.011\n",
            "[4,  2000] loss: 0.835\n",
            "[4,  4000] loss: 0.853\n",
            "[4,  6000] loss: 0.870\n",
            "[4,  8000] loss: 0.885\n",
            "[4, 10000] loss: 0.905\n",
            "Epoch 4, Test loss: 1.038\n",
            "[5,  2000] loss: 0.774\n",
            "[5,  4000] loss: 0.826\n",
            "[5,  6000] loss: 0.830\n",
            "[5,  8000] loss: 0.844\n",
            "[5, 10000] loss: 0.858\n",
            "Epoch 5, Test loss: 1.068\n",
            "[6,  2000] loss: 0.742\n",
            "[6,  4000] loss: 0.782\n",
            "[6,  6000] loss: 0.788\n",
            "[6,  8000] loss: 0.821\n",
            "[6, 10000] loss: 0.830\n",
            "Epoch 6, Test loss: 1.060\n",
            "[7,  2000] loss: 0.717\n",
            "[7,  4000] loss: 0.728\n",
            "[7,  6000] loss: 0.764\n",
            "[7,  8000] loss: 0.811\n",
            "[7, 10000] loss: 0.799\n",
            "Epoch 7, Test loss: 1.083\n",
            "[8,  2000] loss: 0.682\n",
            "[8,  4000] loss: 0.730\n",
            "[8,  6000] loss: 0.740\n",
            "[8,  8000] loss: 0.758\n",
            "[8, 10000] loss: 0.805\n",
            "Epoch 8, Test loss: 1.118\n",
            "[9,  2000] loss: 0.662\n",
            "[9,  4000] loss: 0.698\n",
            "[9,  6000] loss: 0.730\n",
            "[9,  8000] loss: 0.751\n",
            "[9, 10000] loss: 0.790\n",
            "Epoch 9, Test loss: 1.115\n",
            "[10,  2000] loss: 0.633\n",
            "[10,  4000] loss: 0.689\n",
            "[10,  6000] loss: 0.714\n",
            "[10,  8000] loss: 0.744\n",
            "[10, 10000] loss: 0.750\n",
            "Epoch 10, Test loss: 1.201\n",
            "Finished Training\n",
            "Accuracy of the network on the 10000 test images: 62 %\n",
            "Accuracy for class: plane is 69.5 %\n",
            "Accuracy for class: car   is 74.4 %\n",
            "Accuracy for class: bird  is 58.9 %\n",
            "Accuracy for class: cat   is 38.6 %\n",
            "Accuracy for class: deer  is 65.7 %\n",
            "Accuracy for class: dog   is 45.4 %\n",
            "Accuracy for class: frog  is 70.3 %\n",
            "Accuracy for class: horse is 62.1 %\n",
            "Accuracy for class: ship  is 75.8 %\n",
            "Accuracy for class: truck is 61.2 %\n",
            "Network depth - 2, Block depth - 1\n",
            "50698\n"
          ]
        },
        {
          "data": {
            "text/html": [
              "Finishing last run (ID:9bes908s) before initializing another..."
            ],
            "text/plain": [
              "<IPython.core.display.HTML object>"
            ]
          },
          "metadata": {},
          "output_type": "display_data"
        },
        {
          "data": {
            "text/html": [
              "Waiting for W&B process to finish... <strong style=\"color:green\">(success).</strong>"
            ],
            "text/plain": [
              "<IPython.core.display.HTML object>"
            ]
          },
          "metadata": {},
          "output_type": "display_data"
        },
        {
          "data": {
            "application/vnd.jupyter.widget-view+json": {
              "model_id": "3ddef078042741878e5c95720921b0b0",
              "version_major": 2,
              "version_minor": 0
            },
            "text/plain": [
              "VBox(children=(Label(value='0.001 MB of 0.001 MB uploaded (0.000 MB deduped)\\r'), FloatProgress(value=1.0, max…"
            ]
          },
          "metadata": {},
          "output_type": "display_data"
        },
        {
          "data": {
            "text/html": [
              "<style>\n",
              "    table.wandb td:nth-child(1) { padding: 0 10px; text-align: left ; width: auto;} td:nth-child(2) {text-align: left ; width: 100%}\n",
              "    .wandb-row { display: flex; flex-direction: row; flex-wrap: wrap; justify-content: flex-start; width: 100% }\n",
              "    .wandb-col { display: flex; flex-direction: column; flex-basis: 100%; flex: 1; padding: 10px; }\n",
              "    </style>\n",
              "<div class=\"wandb-row\"><div class=\"wandb-col\"><h3>Run history:</h3><br/><table class=\"wandb\"><tr><td>Test loss / Epoch</td><td>▇▄▁▂▃▃▄▅▅█</td></tr><tr><td>Train loss / Epoch</td><td>█▅▃▃▂▂▂▁▁▁</td></tr></table><br/></div><div class=\"wandb-col\"><h3>Run summary:</h3><br/><table class=\"wandb\"><tr><td>Test loss / Epoch</td><td>1.20082</td></tr><tr><td>Train loss / Epoch</td><td>0.70593</td></tr></table><br/></div></div>"
            ],
            "text/plain": [
              "<IPython.core.display.HTML object>"
            ]
          },
          "metadata": {},
          "output_type": "display_data"
        },
        {
          "data": {
            "text/html": [
              " View run <strong style=\"color:#cdcd00\">sleek-universe-56</strong> at: <a href='https://wandb.ai/omersiton/NN.Ex1/runs/9bes908s' target=\"_blank\">https://wandb.ai/omersiton/NN.Ex1/runs/9bes908s</a><br/>Synced 5 W&B file(s), 0 media file(s), 0 artifact file(s) and 0 other file(s)"
            ],
            "text/plain": [
              "<IPython.core.display.HTML object>"
            ]
          },
          "metadata": {},
          "output_type": "display_data"
        },
        {
          "data": {
            "text/html": [
              "Find logs at: <code>./wandb/run-20230329_180106-9bes908s/logs</code>"
            ],
            "text/plain": [
              "<IPython.core.display.HTML object>"
            ]
          },
          "metadata": {},
          "output_type": "display_data"
        },
        {
          "data": {
            "text/html": [
              "Successfully finished last run (ID:9bes908s). Initializing new run:<br/>"
            ],
            "text/plain": [
              "<IPython.core.display.HTML object>"
            ]
          },
          "metadata": {},
          "output_type": "display_data"
        },
        {
          "data": {
            "text/html": [
              "Tracking run with wandb version 0.14.0"
            ],
            "text/plain": [
              "<IPython.core.display.HTML object>"
            ]
          },
          "metadata": {},
          "output_type": "display_data"
        },
        {
          "data": {
            "text/html": [
              "Run data is saved locally in <code>/content/wandb/run-20230329_181139-0eqye6nq</code>"
            ],
            "text/plain": [
              "<IPython.core.display.HTML object>"
            ]
          },
          "metadata": {},
          "output_type": "display_data"
        },
        {
          "data": {
            "text/html": [
              "Syncing run <strong><a href='https://wandb.ai/omersiton/NN.Ex1/runs/0eqye6nq' target=\"_blank\">driven-waterfall-57</a></strong> to <a href='https://wandb.ai/omersiton/NN.Ex1' target=\"_blank\">Weights & Biases</a> (<a href='https://wandb.me/run' target=\"_blank\">docs</a>)<br/>"
            ],
            "text/plain": [
              "<IPython.core.display.HTML object>"
            ]
          },
          "metadata": {},
          "output_type": "display_data"
        },
        {
          "data": {
            "text/html": [
              " View project at <a href='https://wandb.ai/omersiton/NN.Ex1' target=\"_blank\">https://wandb.ai/omersiton/NN.Ex1</a>"
            ],
            "text/plain": [
              "<IPython.core.display.HTML object>"
            ]
          },
          "metadata": {},
          "output_type": "display_data"
        },
        {
          "data": {
            "text/html": [
              " View run at <a href='https://wandb.ai/omersiton/NN.Ex1/runs/0eqye6nq' target=\"_blank\">https://wandb.ai/omersiton/NN.Ex1/runs/0eqye6nq</a>"
            ],
            "text/plain": [
              "<IPython.core.display.HTML object>"
            ]
          },
          "metadata": {},
          "output_type": "display_data"
        },
        {
          "name": "stdout",
          "output_type": "stream",
          "text": [
            "[1,  2000] loss: 1.789\n",
            "[1,  4000] loss: 1.471\n",
            "[1,  6000] loss: 1.348\n",
            "[1,  8000] loss: 1.247\n",
            "[1, 10000] loss: 1.175\n",
            "Epoch 1, Test loss: 1.162\n",
            "[2,  2000] loss: 1.102\n",
            "[2,  4000] loss: 1.047\n",
            "[2,  6000] loss: 1.035\n",
            "[2,  8000] loss: 1.004\n",
            "[2, 10000] loss: 0.997\n",
            "Epoch 2, Test loss: 0.996\n",
            "[3,  2000] loss: 0.912\n",
            "[3,  4000] loss: 0.918\n",
            "[3,  6000] loss: 0.902\n",
            "[3,  8000] loss: 0.892\n",
            "[3, 10000] loss: 0.896\n",
            "Epoch 3, Test loss: 0.959\n",
            "[4,  2000] loss: 0.804\n",
            "[4,  4000] loss: 0.820\n",
            "[4,  6000] loss: 0.829\n",
            "[4,  8000] loss: 0.821\n",
            "[4, 10000] loss: 0.819\n",
            "Epoch 4, Test loss: 0.923\n",
            "[5,  2000] loss: 0.732\n",
            "[5,  4000] loss: 0.751\n",
            "[5,  6000] loss: 0.750\n",
            "[5,  8000] loss: 0.754\n",
            "[5, 10000] loss: 0.783\n",
            "Epoch 5, Test loss: 0.903\n",
            "[6,  2000] loss: 0.668\n",
            "[6,  4000] loss: 0.686\n",
            "[6,  6000] loss: 0.707\n",
            "[6,  8000] loss: 0.734\n",
            "[6, 10000] loss: 0.725\n",
            "Epoch 6, Test loss: 0.916\n",
            "[7,  2000] loss: 0.617\n",
            "[7,  4000] loss: 0.641\n",
            "[7,  6000] loss: 0.666\n",
            "[7,  8000] loss: 0.684\n",
            "[7, 10000] loss: 0.689\n",
            "Epoch 7, Test loss: 0.911\n",
            "[8,  2000] loss: 0.595\n",
            "[8,  4000] loss: 0.611\n",
            "[8,  6000] loss: 0.609\n",
            "[8,  8000] loss: 0.653\n",
            "[8, 10000] loss: 0.649\n",
            "Epoch 8, Test loss: 0.954\n",
            "[9,  2000] loss: 0.554\n",
            "[9,  4000] loss: 0.574\n",
            "[9,  6000] loss: 0.604\n",
            "[9,  8000] loss: 0.633\n",
            "[9, 10000] loss: 0.610\n",
            "Epoch 9, Test loss: 0.946\n",
            "[10,  2000] loss: 0.502\n",
            "[10,  4000] loss: 0.546\n",
            "[10,  6000] loss: 0.575\n",
            "[10,  8000] loss: 0.572\n",
            "[10, 10000] loss: 0.617\n",
            "Epoch 10, Test loss: 1.021\n",
            "Finished Training\n",
            "Accuracy of the network on the 10000 test images: 67 %\n",
            "Accuracy for class: plane is 70.0 %\n",
            "Accuracy for class: car   is 80.4 %\n",
            "Accuracy for class: bird  is 52.8 %\n",
            "Accuracy for class: cat   is 64.5 %\n",
            "Accuracy for class: deer  is 59.1 %\n",
            "Accuracy for class: dog   is 46.3 %\n",
            "Accuracy for class: frog  is 71.1 %\n",
            "Accuracy for class: horse is 73.8 %\n",
            "Accuracy for class: ship  is 76.1 %\n",
            "Accuracy for class: truck is 83.5 %\n",
            "Network depth - 2, Block depth - 3\n",
            "129194\n"
          ]
        },
        {
          "data": {
            "text/html": [
              "Finishing last run (ID:0eqye6nq) before initializing another..."
            ],
            "text/plain": [
              "<IPython.core.display.HTML object>"
            ]
          },
          "metadata": {},
          "output_type": "display_data"
        },
        {
          "data": {
            "text/html": [
              "Waiting for W&B process to finish... <strong style=\"color:green\">(success).</strong>"
            ],
            "text/plain": [
              "<IPython.core.display.HTML object>"
            ]
          },
          "metadata": {},
          "output_type": "display_data"
        },
        {
          "data": {
            "text/html": [
              "<style>\n",
              "    table.wandb td:nth-child(1) { padding: 0 10px; text-align: left ; width: auto;} td:nth-child(2) {text-align: left ; width: 100%}\n",
              "    .wandb-row { display: flex; flex-direction: row; flex-wrap: wrap; justify-content: flex-start; width: 100% }\n",
              "    .wandb-col { display: flex; flex-direction: column; flex-basis: 100%; flex: 1; padding: 10px; }\n",
              "    </style>\n",
              "<div class=\"wandb-row\"><div class=\"wandb-col\"><h3>Run history:</h3><br/><table class=\"wandb\"><tr><td>Test loss / Epoch</td><td>█▄▃▂▁▁▁▂▂▄</td></tr><tr><td>Train loss / Epoch</td><td>█▅▄▃▃▂▂▂▁▁</td></tr></table><br/></div><div class=\"wandb-col\"><h3>Run summary:</h3><br/><table class=\"wandb\"><tr><td>Test loss / Epoch</td><td>1.02056</td></tr><tr><td>Train loss / Epoch</td><td>0.56245</td></tr></table><br/></div></div>"
            ],
            "text/plain": [
              "<IPython.core.display.HTML object>"
            ]
          },
          "metadata": {},
          "output_type": "display_data"
        },
        {
          "data": {
            "text/html": [
              " View run <strong style=\"color:#cdcd00\">driven-waterfall-57</strong> at: <a href='https://wandb.ai/omersiton/NN.Ex1/runs/0eqye6nq' target=\"_blank\">https://wandb.ai/omersiton/NN.Ex1/runs/0eqye6nq</a><br/>Synced 5 W&B file(s), 0 media file(s), 0 artifact file(s) and 0 other file(s)"
            ],
            "text/plain": [
              "<IPython.core.display.HTML object>"
            ]
          },
          "metadata": {},
          "output_type": "display_data"
        },
        {
          "data": {
            "text/html": [
              "Find logs at: <code>./wandb/run-20230329_181139-0eqye6nq/logs</code>"
            ],
            "text/plain": [
              "<IPython.core.display.HTML object>"
            ]
          },
          "metadata": {},
          "output_type": "display_data"
        },
        {
          "data": {
            "text/html": [
              "Successfully finished last run (ID:0eqye6nq). Initializing new run:<br/>"
            ],
            "text/plain": [
              "<IPython.core.display.HTML object>"
            ]
          },
          "metadata": {},
          "output_type": "display_data"
        },
        {
          "data": {
            "text/html": [
              "Tracking run with wandb version 0.14.0"
            ],
            "text/plain": [
              "<IPython.core.display.HTML object>"
            ]
          },
          "metadata": {},
          "output_type": "display_data"
        },
        {
          "data": {
            "text/html": [
              "Run data is saved locally in <code>/content/wandb/run-20230329_182109-akl1ilfd</code>"
            ],
            "text/plain": [
              "<IPython.core.display.HTML object>"
            ]
          },
          "metadata": {},
          "output_type": "display_data"
        },
        {
          "data": {
            "text/html": [
              "Syncing run <strong><a href='https://wandb.ai/omersiton/NN.Ex1/runs/akl1ilfd' target=\"_blank\">glamorous-donkey-58</a></strong> to <a href='https://wandb.ai/omersiton/NN.Ex1' target=\"_blank\">Weights & Biases</a> (<a href='https://wandb.me/run' target=\"_blank\">docs</a>)<br/>"
            ],
            "text/plain": [
              "<IPython.core.display.HTML object>"
            ]
          },
          "metadata": {},
          "output_type": "display_data"
        },
        {
          "data": {
            "text/html": [
              " View project at <a href='https://wandb.ai/omersiton/NN.Ex1' target=\"_blank\">https://wandb.ai/omersiton/NN.Ex1</a>"
            ],
            "text/plain": [
              "<IPython.core.display.HTML object>"
            ]
          },
          "metadata": {},
          "output_type": "display_data"
        },
        {
          "data": {
            "text/html": [
              " View run at <a href='https://wandb.ai/omersiton/NN.Ex1/runs/akl1ilfd' target=\"_blank\">https://wandb.ai/omersiton/NN.Ex1/runs/akl1ilfd</a>"
            ],
            "text/plain": [
              "<IPython.core.display.HTML object>"
            ]
          },
          "metadata": {},
          "output_type": "display_data"
        },
        {
          "name": "stdout",
          "output_type": "stream",
          "text": [
            "[1,  2000] loss: 1.782\n",
            "[1,  4000] loss: 1.401\n",
            "[1,  6000] loss: 1.259\n",
            "[1,  8000] loss: 1.140\n",
            "[1, 10000] loss: 1.065\n",
            "Epoch 1, Test loss: 1.054\n",
            "[2,  2000] loss: 0.966\n",
            "[2,  4000] loss: 0.935\n",
            "[2,  6000] loss: 0.919\n",
            "[2,  8000] loss: 0.885\n",
            "[2, 10000] loss: 0.857\n",
            "Epoch 2, Test loss: 0.969\n",
            "[3,  2000] loss: 0.759\n",
            "[3,  4000] loss: 0.775\n",
            "[3,  6000] loss: 0.767\n",
            "[3,  8000] loss: 0.739\n",
            "[3, 10000] loss: 0.743\n",
            "Epoch 3, Test loss: 0.809\n",
            "[4,  2000] loss: 0.632\n",
            "[4,  4000] loss: 0.649\n",
            "[4,  6000] loss: 0.663\n",
            "[4,  8000] loss: 0.675\n",
            "[4, 10000] loss: 0.678\n",
            "Epoch 4, Test loss: 0.796\n",
            "[5,  2000] loss: 0.557\n",
            "[5,  4000] loss: 0.576\n",
            "[5,  6000] loss: 0.608\n",
            "[5,  8000] loss: 0.608\n",
            "[5, 10000] loss: 0.608\n",
            "Epoch 5, Test loss: 0.834\n",
            "[6,  2000] loss: 0.492\n",
            "[6,  4000] loss: 0.541\n",
            "[6,  6000] loss: 0.533\n",
            "[6,  8000] loss: 0.560\n",
            "[6, 10000] loss: 0.578\n",
            "Epoch 6, Test loss: 0.845\n",
            "[7,  2000] loss: 0.434\n",
            "[7,  4000] loss: 0.468\n",
            "[7,  6000] loss: 0.512\n",
            "[7,  8000] loss: 0.544\n",
            "[7, 10000] loss: 0.533\n",
            "Epoch 7, Test loss: 0.918\n",
            "[8,  2000] loss: 0.409\n",
            "[8,  4000] loss: 0.454\n",
            "[8,  6000] loss: 0.452\n",
            "[8,  8000] loss: 0.486\n",
            "[8, 10000] loss: 0.524\n",
            "Epoch 8, Test loss: 0.862\n",
            "[9,  2000] loss: 0.368\n",
            "[9,  4000] loss: 0.411\n",
            "[9,  6000] loss: 0.446\n",
            "[9,  8000] loss: 0.474\n",
            "[9, 10000] loss: 0.502\n",
            "Epoch 9, Test loss: 0.894\n",
            "[10,  2000] loss: 0.361\n",
            "[10,  4000] loss: 0.397\n",
            "[10,  6000] loss: 0.420\n",
            "[10,  8000] loss: 0.477\n",
            "[10, 10000] loss: 0.486\n",
            "Epoch 10, Test loss: 0.912\n",
            "Finished Training\n",
            "Accuracy of the network on the 10000 test images: 72 %\n",
            "Accuracy for class: plane is 76.2 %\n",
            "Accuracy for class: car   is 85.8 %\n",
            "Accuracy for class: bird  is 65.7 %\n",
            "Accuracy for class: cat   is 62.6 %\n",
            "Accuracy for class: deer  is 65.9 %\n",
            "Accuracy for class: dog   is 52.7 %\n",
            "Accuracy for class: frog  is 72.6 %\n",
            "Accuracy for class: horse is 78.5 %\n",
            "Accuracy for class: ship  is 80.3 %\n",
            "Accuracy for class: truck is 83.5 %\n",
            "Network depth - 3, Block depth - 1\n",
            "198410\n"
          ]
        },
        {
          "data": {
            "text/html": [
              "Finishing last run (ID:akl1ilfd) before initializing another..."
            ],
            "text/plain": [
              "<IPython.core.display.HTML object>"
            ]
          },
          "metadata": {},
          "output_type": "display_data"
        },
        {
          "data": {
            "text/html": [
              "Waiting for W&B process to finish... <strong style=\"color:green\">(success).</strong>"
            ],
            "text/plain": [
              "<IPython.core.display.HTML object>"
            ]
          },
          "metadata": {},
          "output_type": "display_data"
        },
        {
          "data": {
            "application/vnd.jupyter.widget-view+json": {
              "model_id": "a416c5428d494200813c1bc5d12829c5",
              "version_major": 2,
              "version_minor": 0
            },
            "text/plain": [
              "VBox(children=(Label(value='0.001 MB of 0.001 MB uploaded (0.000 MB deduped)\\r'), FloatProgress(value=1.0, max…"
            ]
          },
          "metadata": {},
          "output_type": "display_data"
        },
        {
          "data": {
            "text/html": [
              "<style>\n",
              "    table.wandb td:nth-child(1) { padding: 0 10px; text-align: left ; width: auto;} td:nth-child(2) {text-align: left ; width: 100%}\n",
              "    .wandb-row { display: flex; flex-direction: row; flex-wrap: wrap; justify-content: flex-start; width: 100% }\n",
              "    .wandb-col { display: flex; flex-direction: column; flex-basis: 100%; flex: 1; padding: 10px; }\n",
              "    </style>\n",
              "<div class=\"wandb-row\"><div class=\"wandb-col\"><h3>Run history:</h3><br/><table class=\"wandb\"><tr><td>Test loss / Epoch</td><td>█▆▁▁▂▂▄▃▄▄</td></tr><tr><td>Train loss / Epoch</td><td>█▅▄▃▂▂▂▁▁▁</td></tr></table><br/></div><div class=\"wandb-col\"><h3>Run summary:</h3><br/><table class=\"wandb\"><tr><td>Test loss / Epoch</td><td>0.91243</td></tr><tr><td>Train loss / Epoch</td><td>0.42826</td></tr></table><br/></div></div>"
            ],
            "text/plain": [
              "<IPython.core.display.HTML object>"
            ]
          },
          "metadata": {},
          "output_type": "display_data"
        },
        {
          "data": {
            "text/html": [
              " View run <strong style=\"color:#cdcd00\">glamorous-donkey-58</strong> at: <a href='https://wandb.ai/omersiton/NN.Ex1/runs/akl1ilfd' target=\"_blank\">https://wandb.ai/omersiton/NN.Ex1/runs/akl1ilfd</a><br/>Synced 5 W&B file(s), 0 media file(s), 0 artifact file(s) and 0 other file(s)"
            ],
            "text/plain": [
              "<IPython.core.display.HTML object>"
            ]
          },
          "metadata": {},
          "output_type": "display_data"
        },
        {
          "data": {
            "text/html": [
              "Find logs at: <code>./wandb/run-20230329_182109-akl1ilfd/logs</code>"
            ],
            "text/plain": [
              "<IPython.core.display.HTML object>"
            ]
          },
          "metadata": {},
          "output_type": "display_data"
        },
        {
          "data": {
            "text/html": [
              "Successfully finished last run (ID:akl1ilfd). Initializing new run:<br/>"
            ],
            "text/plain": [
              "<IPython.core.display.HTML object>"
            ]
          },
          "metadata": {},
          "output_type": "display_data"
        },
        {
          "data": {
            "text/html": [
              "Tracking run with wandb version 0.14.0"
            ],
            "text/plain": [
              "<IPython.core.display.HTML object>"
            ]
          },
          "metadata": {},
          "output_type": "display_data"
        },
        {
          "data": {
            "text/html": [
              "Run data is saved locally in <code>/content/wandb/run-20230329_183435-oqvm8oex</code>"
            ],
            "text/plain": [
              "<IPython.core.display.HTML object>"
            ]
          },
          "metadata": {},
          "output_type": "display_data"
        },
        {
          "data": {
            "text/html": [
              "Syncing run <strong><a href='https://wandb.ai/omersiton/NN.Ex1/runs/oqvm8oex' target=\"_blank\">crimson-plant-59</a></strong> to <a href='https://wandb.ai/omersiton/NN.Ex1' target=\"_blank\">Weights & Biases</a> (<a href='https://wandb.me/run' target=\"_blank\">docs</a>)<br/>"
            ],
            "text/plain": [
              "<IPython.core.display.HTML object>"
            ]
          },
          "metadata": {},
          "output_type": "display_data"
        },
        {
          "data": {
            "text/html": [
              " View project at <a href='https://wandb.ai/omersiton/NN.Ex1' target=\"_blank\">https://wandb.ai/omersiton/NN.Ex1</a>"
            ],
            "text/plain": [
              "<IPython.core.display.HTML object>"
            ]
          },
          "metadata": {},
          "output_type": "display_data"
        },
        {
          "data": {
            "text/html": [
              " View run at <a href='https://wandb.ai/omersiton/NN.Ex1/runs/oqvm8oex' target=\"_blank\">https://wandb.ai/omersiton/NN.Ex1/runs/oqvm8oex</a>"
            ],
            "text/plain": [
              "<IPython.core.display.HTML object>"
            ]
          },
          "metadata": {},
          "output_type": "display_data"
        },
        {
          "name": "stdout",
          "output_type": "stream",
          "text": [
            "[1,  2000] loss: 1.919\n",
            "[1,  4000] loss: 1.535\n",
            "[1,  6000] loss: 1.381\n",
            "[1,  8000] loss: 1.277\n",
            "[1, 10000] loss: 1.186\n",
            "Epoch 1, Test loss: 1.172\n",
            "[2,  2000] loss: 1.094\n",
            "[2,  4000] loss: 1.018\n",
            "[2,  6000] loss: 1.004\n",
            "[2,  8000] loss: 0.944\n",
            "[2, 10000] loss: 0.923\n",
            "Epoch 2, Test loss: 0.907\n",
            "[3,  2000] loss: 0.839\n",
            "[3,  4000] loss: 0.817\n",
            "[3,  6000] loss: 0.814\n",
            "[3,  8000] loss: 0.790\n",
            "[3, 10000] loss: 0.781\n",
            "Epoch 3, Test loss: 0.870\n",
            "[4,  2000] loss: 0.669\n",
            "[4,  4000] loss: 0.696\n",
            "[4,  6000] loss: 0.691\n",
            "[4,  8000] loss: 0.695\n",
            "[4, 10000] loss: 0.683\n",
            "Epoch 4, Test loss: 0.811\n",
            "[5,  2000] loss: 0.559\n",
            "[5,  4000] loss: 0.585\n",
            "[5,  6000] loss: 0.613\n",
            "[5,  8000] loss: 0.590\n",
            "[5, 10000] loss: 0.603\n",
            "Epoch 5, Test loss: 0.806\n",
            "[6,  2000] loss: 0.455\n",
            "[6,  4000] loss: 0.497\n",
            "[6,  6000] loss: 0.497\n",
            "[6,  8000] loss: 0.526\n",
            "[6, 10000] loss: 0.534\n",
            "Epoch 6, Test loss: 0.873\n",
            "[7,  2000] loss: 0.380\n",
            "[7,  4000] loss: 0.407\n",
            "[7,  6000] loss: 0.424\n",
            "[7,  8000] loss: 0.461\n",
            "[7, 10000] loss: 0.452\n",
            "Epoch 7, Test loss: 0.925\n",
            "[8,  2000] loss: 0.315\n",
            "[8,  4000] loss: 0.338\n",
            "[8,  6000] loss: 0.363\n",
            "[8,  8000] loss: 0.380\n",
            "[8, 10000] loss: 0.392\n",
            "Epoch 8, Test loss: 0.925\n",
            "[9,  2000] loss: 0.236\n",
            "[9,  4000] loss: 0.275\n",
            "[9,  6000] loss: 0.302\n",
            "[9,  8000] loss: 0.337\n",
            "[9, 10000] loss: 0.345\n",
            "Epoch 9, Test loss: 1.014\n",
            "[10,  2000] loss: 0.190\n",
            "[10,  4000] loss: 0.227\n",
            "[10,  6000] loss: 0.270\n",
            "[10,  8000] loss: 0.287\n",
            "[10, 10000] loss: 0.304\n",
            "Epoch 10, Test loss: 1.091\n",
            "Finished Training\n",
            "Accuracy of the network on the 10000 test images: 72 %\n",
            "Accuracy for class: plane is 77.4 %\n",
            "Accuracy for class: car   is 85.4 %\n",
            "Accuracy for class: bird  is 62.1 %\n",
            "Accuracy for class: cat   is 63.7 %\n",
            "Accuracy for class: deer  is 61.4 %\n",
            "Accuracy for class: dog   is 58.5 %\n",
            "Accuracy for class: frog  is 76.5 %\n",
            "Accuracy for class: horse is 72.1 %\n",
            "Accuracy for class: ship  is 79.7 %\n",
            "Accuracy for class: truck is 85.3 %\n",
            "Network depth - 3, Block depth - 3\n",
            "1457066\n"
          ]
        },
        {
          "data": {
            "text/html": [
              "Finishing last run (ID:oqvm8oex) before initializing another..."
            ],
            "text/plain": [
              "<IPython.core.display.HTML object>"
            ]
          },
          "metadata": {},
          "output_type": "display_data"
        },
        {
          "data": {
            "text/html": [
              "Waiting for W&B process to finish... <strong style=\"color:green\">(success).</strong>"
            ],
            "text/plain": [
              "<IPython.core.display.HTML object>"
            ]
          },
          "metadata": {},
          "output_type": "display_data"
        },
        {
          "data": {
            "text/html": [
              "<style>\n",
              "    table.wandb td:nth-child(1) { padding: 0 10px; text-align: left ; width: auto;} td:nth-child(2) {text-align: left ; width: 100%}\n",
              "    .wandb-row { display: flex; flex-direction: row; flex-wrap: wrap; justify-content: flex-start; width: 100% }\n",
              "    .wandb-col { display: flex; flex-direction: column; flex-basis: 100%; flex: 1; padding: 10px; }\n",
              "    </style>\n",
              "<div class=\"wandb-row\"><div class=\"wandb-col\"><h3>Run history:</h3><br/><table class=\"wandb\"><tr><td>Test loss / Epoch</td><td>█▃▂▁▁▂▃▃▅▆</td></tr><tr><td>Train loss / Epoch</td><td>█▅▄▄▃▂▂▂▁▁</td></tr></table><br/></div><div class=\"wandb-col\"><h3>Run summary:</h3><br/><table class=\"wandb\"><tr><td>Test loss / Epoch</td><td>1.09087</td></tr><tr><td>Train loss / Epoch</td><td>0.25563</td></tr></table><br/></div></div>"
            ],
            "text/plain": [
              "<IPython.core.display.HTML object>"
            ]
          },
          "metadata": {},
          "output_type": "display_data"
        },
        {
          "data": {
            "text/html": [
              " View run <strong style=\"color:#cdcd00\">crimson-plant-59</strong> at: <a href='https://wandb.ai/omersiton/NN.Ex1/runs/oqvm8oex' target=\"_blank\">https://wandb.ai/omersiton/NN.Ex1/runs/oqvm8oex</a><br/>Synced 5 W&B file(s), 0 media file(s), 0 artifact file(s) and 0 other file(s)"
            ],
            "text/plain": [
              "<IPython.core.display.HTML object>"
            ]
          },
          "metadata": {},
          "output_type": "display_data"
        },
        {
          "data": {
            "text/html": [
              "Find logs at: <code>./wandb/run-20230329_183435-oqvm8oex/logs</code>"
            ],
            "text/plain": [
              "<IPython.core.display.HTML object>"
            ]
          },
          "metadata": {},
          "output_type": "display_data"
        },
        {
          "data": {
            "text/html": [
              "Successfully finished last run (ID:oqvm8oex). Initializing new run:<br/>"
            ],
            "text/plain": [
              "<IPython.core.display.HTML object>"
            ]
          },
          "metadata": {},
          "output_type": "display_data"
        },
        {
          "data": {
            "text/html": [
              "Tracking run with wandb version 0.14.0"
            ],
            "text/plain": [
              "<IPython.core.display.HTML object>"
            ]
          },
          "metadata": {},
          "output_type": "display_data"
        },
        {
          "data": {
            "text/html": [
              "Run data is saved locally in <code>/content/wandb/run-20230329_184513-p83xo84r</code>"
            ],
            "text/plain": [
              "<IPython.core.display.HTML object>"
            ]
          },
          "metadata": {},
          "output_type": "display_data"
        },
        {
          "data": {
            "text/html": [
              "Syncing run <strong><a href='https://wandb.ai/omersiton/NN.Ex1/runs/p83xo84r' target=\"_blank\">distinctive-smoke-60</a></strong> to <a href='https://wandb.ai/omersiton/NN.Ex1' target=\"_blank\">Weights & Biases</a> (<a href='https://wandb.me/run' target=\"_blank\">docs</a>)<br/>"
            ],
            "text/plain": [
              "<IPython.core.display.HTML object>"
            ]
          },
          "metadata": {},
          "output_type": "display_data"
        },
        {
          "data": {
            "text/html": [
              " View project at <a href='https://wandb.ai/omersiton/NN.Ex1' target=\"_blank\">https://wandb.ai/omersiton/NN.Ex1</a>"
            ],
            "text/plain": [
              "<IPython.core.display.HTML object>"
            ]
          },
          "metadata": {},
          "output_type": "display_data"
        },
        {
          "data": {
            "text/html": [
              " View run at <a href='https://wandb.ai/omersiton/NN.Ex1/runs/p83xo84r' target=\"_blank\">https://wandb.ai/omersiton/NN.Ex1/runs/p83xo84r</a>"
            ],
            "text/plain": [
              "<IPython.core.display.HTML object>"
            ]
          },
          "metadata": {},
          "output_type": "display_data"
        },
        {
          "name": "stdout",
          "output_type": "stream",
          "text": [
            "[1,  2000] loss: 1.874\n",
            "[1,  4000] loss: 1.479\n",
            "[1,  6000] loss: 1.298\n",
            "[1,  8000] loss: 1.158\n",
            "[1, 10000] loss: 1.046\n",
            "Epoch 1, Test loss: 1.037\n",
            "[2,  2000] loss: 0.918\n",
            "[2,  4000] loss: 0.878\n",
            "[2,  6000] loss: 0.848\n",
            "[2,  8000] loss: 0.814\n",
            "[2, 10000] loss: 0.777\n",
            "Epoch 2, Test loss: 0.777\n",
            "[3,  2000] loss: 0.654\n",
            "[3,  4000] loss: 0.658\n",
            "[3,  6000] loss: 0.655\n",
            "[3,  8000] loss: 0.642\n",
            "[3, 10000] loss: 0.641\n",
            "Epoch 3, Test loss: 0.690\n",
            "[4,  2000] loss: 0.502\n",
            "[4,  4000] loss: 0.516\n",
            "[4,  6000] loss: 0.504\n",
            "[4,  8000] loss: 0.531\n",
            "[4, 10000] loss: 0.546\n",
            "Epoch 4, Test loss: 0.672\n",
            "[5,  2000] loss: 0.371\n",
            "[5,  4000] loss: 0.391\n",
            "[5,  6000] loss: 0.418\n",
            "[5,  8000] loss: 0.429\n",
            "[5, 10000] loss: 0.458\n",
            "Epoch 5, Test loss: 0.693\n",
            "[6,  2000] loss: 0.283\n",
            "[6,  4000] loss: 0.306\n",
            "[6,  6000] loss: 0.351\n",
            "[6,  8000] loss: 0.353\n",
            "[6, 10000] loss: 0.370\n",
            "Epoch 6, Test loss: 0.728\n",
            "[7,  2000] loss: 0.212\n",
            "[7,  4000] loss: 0.254\n",
            "[7,  6000] loss: 0.288\n",
            "[7,  8000] loss: 0.293\n",
            "[7, 10000] loss: 0.327\n",
            "Epoch 7, Test loss: 0.783\n",
            "[8,  2000] loss: 0.182\n",
            "[8,  4000] loss: 0.221\n",
            "[8,  6000] loss: 0.250\n",
            "[8,  8000] loss: 0.249\n",
            "[8, 10000] loss: 0.270\n",
            "Epoch 8, Test loss: 0.869\n",
            "[9,  2000] loss: 0.162\n",
            "[9,  4000] loss: 0.183\n",
            "[9,  6000] loss: 0.209\n",
            "[9,  8000] loss: 0.244\n",
            "[9, 10000] loss: 0.261\n",
            "Epoch 9, Test loss: 0.887\n",
            "[10,  2000] loss: 0.153\n",
            "[10,  4000] loss: 0.167\n",
            "[10,  6000] loss: 0.205\n",
            "[10,  8000] loss: 0.221\n",
            "[10, 10000] loss: 0.242\n",
            "Epoch 10, Test loss: 0.990\n",
            "Finished Training\n",
            "Accuracy of the network on the 10000 test images: 76 %\n",
            "Accuracy for class: plane is 83.1 %\n",
            "Accuracy for class: car   is 90.0 %\n",
            "Accuracy for class: bird  is 64.9 %\n",
            "Accuracy for class: cat   is 40.2 %\n",
            "Accuracy for class: deer  is 74.6 %\n",
            "Accuracy for class: dog   is 80.8 %\n",
            "Accuracy for class: frog  is 85.4 %\n",
            "Accuracy for class: horse is 73.3 %\n",
            "Accuracy for class: ship  is 82.5 %\n",
            "Accuracy for class: truck is 86.4 %\n"
          ]
        }
      ],
      "source": [
        "\n",
        "class Block(nn.Module):\n",
        "    def __init__(self, in_dim, out_dim, depth=1):\n",
        "      super().__init__()\n",
        "      self.depth = depth\n",
        "      self.layers = nn.ModuleList([])\n",
        "      self.layers.append(nn.Conv2d(in_dim, out_dim, 3, padding='same'))\n",
        "      for i in range(1,depth):\n",
        "        self.layers.append(nn.Conv2d(out_dim, out_dim, 3, padding='same'))\n",
        "      self.pool = nn.MaxPool2d(2, 2)\n",
        "\n",
        "\n",
        "    def forward(self, x):\n",
        "      skip_connection = F.relu(self.layers[0](x))\n",
        "      for i, layer in enumerate(self.layers):\n",
        "          x = F.relu(layer(x) + (skip_connection if i % 2 == 0 and self.depth > 2 else 0))\n",
        "      x = self.pool(x)\n",
        "      return x\n",
        "\n",
        "\n",
        "class Net(nn.Module):\n",
        "    def __init__(self, net_depth, block_depth, in_channels=3, out_channels=10):\n",
        "        super().__init__()\n",
        "        self.layers = nn.ModuleList([])\n",
        "        inner_dim = 16\n",
        "        HW = 32\n",
        "        for i in range(net_depth):\n",
        "          self.layers.append(Block(in_channels, inner_dim, depth=block_depth))\n",
        "          in_channels = inner_dim\n",
        "          inner_dim = inner_dim * 4 if i != net_depth-1 else inner_dim\n",
        "          HW /= 2\n",
        "        \n",
        "        self.fc1 = nn.Linear(inner_dim * int(HW) * int(HW), out_channels)\n",
        "        \n",
        "\n",
        "    def forward(self, x):\n",
        "        for layer in self.layers:\n",
        "          x = layer(x)\n",
        "        x = torch.flatten(x, 1) # flatten all dimensions except batch\n",
        "        x = self.fc1(x)\n",
        "        return x\n",
        "\n",
        "\n",
        "for net_depth in [1, 2, 3]:\n",
        "  for block_depth in [1, 3]:\n",
        "    # print depths\n",
        "    print(f\"Network depth - {net_depth}, Block depth - {block_depth}\")\n",
        "    net = Net(net_depth, block_depth)\n",
        "    device = torch.device('cuda:0' if torch.cuda.is_available() else 'cpu')\n",
        "    net.to(device)\n",
        "    # print the number of learning parameters\n",
        "    print(sum(p.numel() for p in net.parameters() if p.requires_grad))\n",
        "    # init logging service W&B\n",
        "    init_wb()\n",
        "    # define loss and optimizer\n",
        "    criterion = nn.CrossEntropyLoss()\n",
        "    optimizer = optim.SGD(net.parameters(), lr=wandb.config.learning_rate, momentum=0.9)\n",
        "    # train\n",
        "    train_net()\n",
        "    # calc accuracy\n",
        "    accuracy()\n",
        "    accuracy_by_class()\n",
        "\n",
        "\n"
      ]
    }
  ],
  "metadata": {
    "accelerator": "GPU",
    "colab": {
      "provenance": []
    },
    "gpuClass": "standard",
    "kernelspec": {
      "display_name": "Python 3",
      "name": "python3"
    },
    "language_info": {
      "name": "python"
    },
    "widgets": {
      "application/vnd.jupyter.widget-state+json": {
        "00f3f376693644c4946490576a47cbb9": {
          "model_module": "@jupyter-widgets/controls",
          "model_module_version": "1.5.0",
          "model_name": "FloatProgressModel",
          "state": {
            "_dom_classes": [],
            "_model_module": "@jupyter-widgets/controls",
            "_model_module_version": "1.5.0",
            "_model_name": "FloatProgressModel",
            "_view_count": null,
            "_view_module": "@jupyter-widgets/controls",
            "_view_module_version": "1.5.0",
            "_view_name": "ProgressView",
            "bar_style": "",
            "description": "",
            "description_tooltip": null,
            "layout": "IPY_MODEL_4802c7ead1f1425994f745255225558e",
            "max": 1,
            "min": 0,
            "orientation": "horizontal",
            "style": "IPY_MODEL_8ee4303bcf5f440c9ef6b0615d9b4355",
            "value": 1
          }
        },
        "0b294fd482d74ff6bc4784e6be3e7f34": {
          "model_module": "@jupyter-widgets/base",
          "model_module_version": "1.2.0",
          "model_name": "LayoutModel",
          "state": {
            "_model_module": "@jupyter-widgets/base",
            "_model_module_version": "1.2.0",
            "_model_name": "LayoutModel",
            "_view_count": null,
            "_view_module": "@jupyter-widgets/base",
            "_view_module_version": "1.2.0",
            "_view_name": "LayoutView",
            "align_content": null,
            "align_items": null,
            "align_self": null,
            "border": null,
            "bottom": null,
            "display": null,
            "flex": null,
            "flex_flow": null,
            "grid_area": null,
            "grid_auto_columns": null,
            "grid_auto_flow": null,
            "grid_auto_rows": null,
            "grid_column": null,
            "grid_gap": null,
            "grid_row": null,
            "grid_template_areas": null,
            "grid_template_columns": null,
            "grid_template_rows": null,
            "height": null,
            "justify_content": null,
            "justify_items": null,
            "left": null,
            "margin": null,
            "max_height": null,
            "max_width": null,
            "min_height": null,
            "min_width": null,
            "object_fit": null,
            "object_position": null,
            "order": null,
            "overflow": null,
            "overflow_x": null,
            "overflow_y": null,
            "padding": null,
            "right": null,
            "top": null,
            "visibility": null,
            "width": null
          }
        },
        "0e6c6e51de784bd7be74eff9bdcdfef7": {
          "model_module": "@jupyter-widgets/base",
          "model_module_version": "1.2.0",
          "model_name": "LayoutModel",
          "state": {
            "_model_module": "@jupyter-widgets/base",
            "_model_module_version": "1.2.0",
            "_model_name": "LayoutModel",
            "_view_count": null,
            "_view_module": "@jupyter-widgets/base",
            "_view_module_version": "1.2.0",
            "_view_name": "LayoutView",
            "align_content": null,
            "align_items": null,
            "align_self": null,
            "border": null,
            "bottom": null,
            "display": null,
            "flex": null,
            "flex_flow": null,
            "grid_area": null,
            "grid_auto_columns": null,
            "grid_auto_flow": null,
            "grid_auto_rows": null,
            "grid_column": null,
            "grid_gap": null,
            "grid_row": null,
            "grid_template_areas": null,
            "grid_template_columns": null,
            "grid_template_rows": null,
            "height": null,
            "justify_content": null,
            "justify_items": null,
            "left": null,
            "margin": null,
            "max_height": null,
            "max_width": null,
            "min_height": null,
            "min_width": null,
            "object_fit": null,
            "object_position": null,
            "order": null,
            "overflow": null,
            "overflow_x": null,
            "overflow_y": null,
            "padding": null,
            "right": null,
            "top": null,
            "visibility": null,
            "width": null
          }
        },
        "0ebecee08b8c436bad04ab3ef44b5c87": {
          "model_module": "@jupyter-widgets/controls",
          "model_module_version": "1.5.0",
          "model_name": "ProgressStyleModel",
          "state": {
            "_model_module": "@jupyter-widgets/controls",
            "_model_module_version": "1.5.0",
            "_model_name": "ProgressStyleModel",
            "_view_count": null,
            "_view_module": "@jupyter-widgets/base",
            "_view_module_version": "1.2.0",
            "_view_name": "StyleView",
            "bar_color": null,
            "description_width": ""
          }
        },
        "0f3a5fd2e3ab41c781e30facb8e7e1e5": {
          "model_module": "@jupyter-widgets/base",
          "model_module_version": "1.2.0",
          "model_name": "LayoutModel",
          "state": {
            "_model_module": "@jupyter-widgets/base",
            "_model_module_version": "1.2.0",
            "_model_name": "LayoutModel",
            "_view_count": null,
            "_view_module": "@jupyter-widgets/base",
            "_view_module_version": "1.2.0",
            "_view_name": "LayoutView",
            "align_content": null,
            "align_items": null,
            "align_self": null,
            "border": null,
            "bottom": null,
            "display": null,
            "flex": null,
            "flex_flow": null,
            "grid_area": null,
            "grid_auto_columns": null,
            "grid_auto_flow": null,
            "grid_auto_rows": null,
            "grid_column": null,
            "grid_gap": null,
            "grid_row": null,
            "grid_template_areas": null,
            "grid_template_columns": null,
            "grid_template_rows": null,
            "height": null,
            "justify_content": null,
            "justify_items": null,
            "left": null,
            "margin": null,
            "max_height": null,
            "max_width": null,
            "min_height": null,
            "min_width": null,
            "object_fit": null,
            "object_position": null,
            "order": null,
            "overflow": null,
            "overflow_x": null,
            "overflow_y": null,
            "padding": null,
            "right": null,
            "top": null,
            "visibility": null,
            "width": null
          }
        },
        "15c2088cf115441793d36353e8c57e99": {
          "model_module": "@jupyter-widgets/controls",
          "model_module_version": "1.5.0",
          "model_name": "VBoxModel",
          "state": {
            "_dom_classes": [],
            "_model_module": "@jupyter-widgets/controls",
            "_model_module_version": "1.5.0",
            "_model_name": "VBoxModel",
            "_view_count": null,
            "_view_module": "@jupyter-widgets/controls",
            "_view_module_version": "1.5.0",
            "_view_name": "VBoxView",
            "box_style": "",
            "children": [
              "IPY_MODEL_1fec0617b8984d7595b4a0f3a1a00543",
              "IPY_MODEL_00f3f376693644c4946490576a47cbb9"
            ],
            "layout": "IPY_MODEL_9e0bd7574bc04c71906e9955d2d3705c"
          }
        },
        "1a659812a38e4d74b18707f607f57a50": {
          "model_module": "@jupyter-widgets/controls",
          "model_module_version": "1.5.0",
          "model_name": "DescriptionStyleModel",
          "state": {
            "_model_module": "@jupyter-widgets/controls",
            "_model_module_version": "1.5.0",
            "_model_name": "DescriptionStyleModel",
            "_view_count": null,
            "_view_module": "@jupyter-widgets/base",
            "_view_module_version": "1.2.0",
            "_view_name": "StyleView",
            "description_width": ""
          }
        },
        "1cc7e54b64064d7dbc9552b83166f9e5": {
          "model_module": "@jupyter-widgets/base",
          "model_module_version": "1.2.0",
          "model_name": "LayoutModel",
          "state": {
            "_model_module": "@jupyter-widgets/base",
            "_model_module_version": "1.2.0",
            "_model_name": "LayoutModel",
            "_view_count": null,
            "_view_module": "@jupyter-widgets/base",
            "_view_module_version": "1.2.0",
            "_view_name": "LayoutView",
            "align_content": null,
            "align_items": null,
            "align_self": null,
            "border": null,
            "bottom": null,
            "display": null,
            "flex": null,
            "flex_flow": null,
            "grid_area": null,
            "grid_auto_columns": null,
            "grid_auto_flow": null,
            "grid_auto_rows": null,
            "grid_column": null,
            "grid_gap": null,
            "grid_row": null,
            "grid_template_areas": null,
            "grid_template_columns": null,
            "grid_template_rows": null,
            "height": null,
            "justify_content": null,
            "justify_items": null,
            "left": null,
            "margin": null,
            "max_height": null,
            "max_width": null,
            "min_height": null,
            "min_width": null,
            "object_fit": null,
            "object_position": null,
            "order": null,
            "overflow": null,
            "overflow_x": null,
            "overflow_y": null,
            "padding": null,
            "right": null,
            "top": null,
            "visibility": null,
            "width": null
          }
        },
        "1fec0617b8984d7595b4a0f3a1a00543": {
          "model_module": "@jupyter-widgets/controls",
          "model_module_version": "1.5.0",
          "model_name": "LabelModel",
          "state": {
            "_dom_classes": [],
            "_model_module": "@jupyter-widgets/controls",
            "_model_module_version": "1.5.0",
            "_model_name": "LabelModel",
            "_view_count": null,
            "_view_module": "@jupyter-widgets/controls",
            "_view_module_version": "1.5.0",
            "_view_name": "LabelView",
            "description": "",
            "description_tooltip": null,
            "layout": "IPY_MODEL_ab54a9d99bcd4720a6500ac6f0c0444a",
            "placeholder": "​",
            "style": "IPY_MODEL_f89a455936ca466ca2997cd88b6e686c",
            "value": "0.001 MB of 0.001 MB uploaded (0.000 MB deduped)\r"
          }
        },
        "318f585450174cfea2c76baa23bdcb0b": {
          "model_module": "@jupyter-widgets/controls",
          "model_module_version": "1.5.0",
          "model_name": "DescriptionStyleModel",
          "state": {
            "_model_module": "@jupyter-widgets/controls",
            "_model_module_version": "1.5.0",
            "_model_name": "DescriptionStyleModel",
            "_view_count": null,
            "_view_module": "@jupyter-widgets/base",
            "_view_module_version": "1.2.0",
            "_view_name": "StyleView",
            "description_width": ""
          }
        },
        "3c72cd9b9b5e44eca1270899d5318a32": {
          "model_module": "@jupyter-widgets/controls",
          "model_module_version": "1.5.0",
          "model_name": "LabelModel",
          "state": {
            "_dom_classes": [],
            "_model_module": "@jupyter-widgets/controls",
            "_model_module_version": "1.5.0",
            "_model_name": "LabelModel",
            "_view_count": null,
            "_view_module": "@jupyter-widgets/controls",
            "_view_module_version": "1.5.0",
            "_view_name": "LabelView",
            "description": "",
            "description_tooltip": null,
            "layout": "IPY_MODEL_1cc7e54b64064d7dbc9552b83166f9e5",
            "placeholder": "​",
            "style": "IPY_MODEL_540a4a357283436c8c59d32b58aae701",
            "value": "0.001 MB of 0.004 MB uploaded (0.000 MB deduped)\r"
          }
        },
        "3ddef078042741878e5c95720921b0b0": {
          "model_module": "@jupyter-widgets/controls",
          "model_module_version": "1.5.0",
          "model_name": "VBoxModel",
          "state": {
            "_dom_classes": [],
            "_model_module": "@jupyter-widgets/controls",
            "_model_module_version": "1.5.0",
            "_model_name": "VBoxModel",
            "_view_count": null,
            "_view_module": "@jupyter-widgets/controls",
            "_view_module_version": "1.5.0",
            "_view_name": "VBoxView",
            "box_style": "",
            "children": [
              "IPY_MODEL_fdbd92049b434e4b831dbee532806c80",
              "IPY_MODEL_ef14e8df9f204639aee9c111844c24ee"
            ],
            "layout": "IPY_MODEL_fdf6b05d2a7c45cca3294b87d03a4826"
          }
        },
        "44acd01aedd8444abce793e3e9c9c354": {
          "model_module": "@jupyter-widgets/controls",
          "model_module_version": "1.5.0",
          "model_name": "LabelModel",
          "state": {
            "_dom_classes": [],
            "_model_module": "@jupyter-widgets/controls",
            "_model_module_version": "1.5.0",
            "_model_name": "LabelModel",
            "_view_count": null,
            "_view_module": "@jupyter-widgets/controls",
            "_view_module_version": "1.5.0",
            "_view_name": "LabelView",
            "description": "",
            "description_tooltip": null,
            "layout": "IPY_MODEL_0b294fd482d74ff6bc4784e6be3e7f34",
            "placeholder": "​",
            "style": "IPY_MODEL_1a659812a38e4d74b18707f607f57a50",
            "value": "0.001 MB of 0.001 MB uploaded (0.000 MB deduped)\r"
          }
        },
        "4802c7ead1f1425994f745255225558e": {
          "model_module": "@jupyter-widgets/base",
          "model_module_version": "1.2.0",
          "model_name": "LayoutModel",
          "state": {
            "_model_module": "@jupyter-widgets/base",
            "_model_module_version": "1.2.0",
            "_model_name": "LayoutModel",
            "_view_count": null,
            "_view_module": "@jupyter-widgets/base",
            "_view_module_version": "1.2.0",
            "_view_name": "LayoutView",
            "align_content": null,
            "align_items": null,
            "align_self": null,
            "border": null,
            "bottom": null,
            "display": null,
            "flex": null,
            "flex_flow": null,
            "grid_area": null,
            "grid_auto_columns": null,
            "grid_auto_flow": null,
            "grid_auto_rows": null,
            "grid_column": null,
            "grid_gap": null,
            "grid_row": null,
            "grid_template_areas": null,
            "grid_template_columns": null,
            "grid_template_rows": null,
            "height": null,
            "justify_content": null,
            "justify_items": null,
            "left": null,
            "margin": null,
            "max_height": null,
            "max_width": null,
            "min_height": null,
            "min_width": null,
            "object_fit": null,
            "object_position": null,
            "order": null,
            "overflow": null,
            "overflow_x": null,
            "overflow_y": null,
            "padding": null,
            "right": null,
            "top": null,
            "visibility": null,
            "width": null
          }
        },
        "540a4a357283436c8c59d32b58aae701": {
          "model_module": "@jupyter-widgets/controls",
          "model_module_version": "1.5.0",
          "model_name": "DescriptionStyleModel",
          "state": {
            "_model_module": "@jupyter-widgets/controls",
            "_model_module_version": "1.5.0",
            "_model_name": "DescriptionStyleModel",
            "_view_count": null,
            "_view_module": "@jupyter-widgets/base",
            "_view_module_version": "1.2.0",
            "_view_name": "StyleView",
            "description_width": ""
          }
        },
        "57d5909ccaa747dd9cf0270ea5b2eecf": {
          "model_module": "@jupyter-widgets/controls",
          "model_module_version": "1.5.0",
          "model_name": "VBoxModel",
          "state": {
            "_dom_classes": [],
            "_model_module": "@jupyter-widgets/controls",
            "_model_module_version": "1.5.0",
            "_model_name": "VBoxModel",
            "_view_count": null,
            "_view_module": "@jupyter-widgets/controls",
            "_view_module_version": "1.5.0",
            "_view_name": "VBoxView",
            "box_style": "",
            "children": [
              "IPY_MODEL_3c72cd9b9b5e44eca1270899d5318a32",
              "IPY_MODEL_8ebefd83a5304cdea8f5c67603b0be93"
            ],
            "layout": "IPY_MODEL_efc7b4758aee465db7dbd784f5be3a58"
          }
        },
        "5d8ae7c2ccda41629437dd495b33ebc6": {
          "model_module": "@jupyter-widgets/controls",
          "model_module_version": "1.5.0",
          "model_name": "FloatProgressModel",
          "state": {
            "_dom_classes": [],
            "_model_module": "@jupyter-widgets/controls",
            "_model_module_version": "1.5.0",
            "_model_name": "FloatProgressModel",
            "_view_count": null,
            "_view_module": "@jupyter-widgets/controls",
            "_view_module_version": "1.5.0",
            "_view_name": "ProgressView",
            "bar_style": "",
            "description": "",
            "description_tooltip": null,
            "layout": "IPY_MODEL_0f3a5fd2e3ab41c781e30facb8e7e1e5",
            "max": 1,
            "min": 0,
            "orientation": "horizontal",
            "style": "IPY_MODEL_72b90bf33c964a71a55455cf3068017b",
            "value": 1
          }
        },
        "72b90bf33c964a71a55455cf3068017b": {
          "model_module": "@jupyter-widgets/controls",
          "model_module_version": "1.5.0",
          "model_name": "ProgressStyleModel",
          "state": {
            "_model_module": "@jupyter-widgets/controls",
            "_model_module_version": "1.5.0",
            "_model_name": "ProgressStyleModel",
            "_view_count": null,
            "_view_module": "@jupyter-widgets/base",
            "_view_module_version": "1.2.0",
            "_view_name": "StyleView",
            "bar_color": null,
            "description_width": ""
          }
        },
        "89ff55908559465d92797d86dcb7978c": {
          "model_module": "@jupyter-widgets/controls",
          "model_module_version": "1.5.0",
          "model_name": "ProgressStyleModel",
          "state": {
            "_model_module": "@jupyter-widgets/controls",
            "_model_module_version": "1.5.0",
            "_model_name": "ProgressStyleModel",
            "_view_count": null,
            "_view_module": "@jupyter-widgets/base",
            "_view_module_version": "1.2.0",
            "_view_name": "StyleView",
            "bar_color": null,
            "description_width": ""
          }
        },
        "8a10aeae451f4fbdaba63f68e31f2446": {
          "model_module": "@jupyter-widgets/base",
          "model_module_version": "1.2.0",
          "model_name": "LayoutModel",
          "state": {
            "_model_module": "@jupyter-widgets/base",
            "_model_module_version": "1.2.0",
            "_model_name": "LayoutModel",
            "_view_count": null,
            "_view_module": "@jupyter-widgets/base",
            "_view_module_version": "1.2.0",
            "_view_name": "LayoutView",
            "align_content": null,
            "align_items": null,
            "align_self": null,
            "border": null,
            "bottom": null,
            "display": null,
            "flex": null,
            "flex_flow": null,
            "grid_area": null,
            "grid_auto_columns": null,
            "grid_auto_flow": null,
            "grid_auto_rows": null,
            "grid_column": null,
            "grid_gap": null,
            "grid_row": null,
            "grid_template_areas": null,
            "grid_template_columns": null,
            "grid_template_rows": null,
            "height": null,
            "justify_content": null,
            "justify_items": null,
            "left": null,
            "margin": null,
            "max_height": null,
            "max_width": null,
            "min_height": null,
            "min_width": null,
            "object_fit": null,
            "object_position": null,
            "order": null,
            "overflow": null,
            "overflow_x": null,
            "overflow_y": null,
            "padding": null,
            "right": null,
            "top": null,
            "visibility": null,
            "width": null
          }
        },
        "8ebefd83a5304cdea8f5c67603b0be93": {
          "model_module": "@jupyter-widgets/controls",
          "model_module_version": "1.5.0",
          "model_name": "FloatProgressModel",
          "state": {
            "_dom_classes": [],
            "_model_module": "@jupyter-widgets/controls",
            "_model_module_version": "1.5.0",
            "_model_name": "FloatProgressModel",
            "_view_count": null,
            "_view_module": "@jupyter-widgets/controls",
            "_view_module_version": "1.5.0",
            "_view_name": "ProgressView",
            "bar_style": "",
            "description": "",
            "description_tooltip": null,
            "layout": "IPY_MODEL_8a10aeae451f4fbdaba63f68e31f2446",
            "max": 1,
            "min": 0,
            "orientation": "horizontal",
            "style": "IPY_MODEL_89ff55908559465d92797d86dcb7978c",
            "value": 0.30082559339525283
          }
        },
        "8ee4303bcf5f440c9ef6b0615d9b4355": {
          "model_module": "@jupyter-widgets/controls",
          "model_module_version": "1.5.0",
          "model_name": "ProgressStyleModel",
          "state": {
            "_model_module": "@jupyter-widgets/controls",
            "_model_module_version": "1.5.0",
            "_model_name": "ProgressStyleModel",
            "_view_count": null,
            "_view_module": "@jupyter-widgets/base",
            "_view_module_version": "1.2.0",
            "_view_name": "StyleView",
            "bar_color": null,
            "description_width": ""
          }
        },
        "9e0bd7574bc04c71906e9955d2d3705c": {
          "model_module": "@jupyter-widgets/base",
          "model_module_version": "1.2.0",
          "model_name": "LayoutModel",
          "state": {
            "_model_module": "@jupyter-widgets/base",
            "_model_module_version": "1.2.0",
            "_model_name": "LayoutModel",
            "_view_count": null,
            "_view_module": "@jupyter-widgets/base",
            "_view_module_version": "1.2.0",
            "_view_name": "LayoutView",
            "align_content": null,
            "align_items": null,
            "align_self": null,
            "border": null,
            "bottom": null,
            "display": null,
            "flex": null,
            "flex_flow": null,
            "grid_area": null,
            "grid_auto_columns": null,
            "grid_auto_flow": null,
            "grid_auto_rows": null,
            "grid_column": null,
            "grid_gap": null,
            "grid_row": null,
            "grid_template_areas": null,
            "grid_template_columns": null,
            "grid_template_rows": null,
            "height": null,
            "justify_content": null,
            "justify_items": null,
            "left": null,
            "margin": null,
            "max_height": null,
            "max_width": null,
            "min_height": null,
            "min_width": null,
            "object_fit": null,
            "object_position": null,
            "order": null,
            "overflow": null,
            "overflow_x": null,
            "overflow_y": null,
            "padding": null,
            "right": null,
            "top": null,
            "visibility": null,
            "width": null
          }
        },
        "9e970e8911ce407aa156cad76dc6ab20": {
          "model_module": "@jupyter-widgets/base",
          "model_module_version": "1.2.0",
          "model_name": "LayoutModel",
          "state": {
            "_model_module": "@jupyter-widgets/base",
            "_model_module_version": "1.2.0",
            "_model_name": "LayoutModel",
            "_view_count": null,
            "_view_module": "@jupyter-widgets/base",
            "_view_module_version": "1.2.0",
            "_view_name": "LayoutView",
            "align_content": null,
            "align_items": null,
            "align_self": null,
            "border": null,
            "bottom": null,
            "display": null,
            "flex": null,
            "flex_flow": null,
            "grid_area": null,
            "grid_auto_columns": null,
            "grid_auto_flow": null,
            "grid_auto_rows": null,
            "grid_column": null,
            "grid_gap": null,
            "grid_row": null,
            "grid_template_areas": null,
            "grid_template_columns": null,
            "grid_template_rows": null,
            "height": null,
            "justify_content": null,
            "justify_items": null,
            "left": null,
            "margin": null,
            "max_height": null,
            "max_width": null,
            "min_height": null,
            "min_width": null,
            "object_fit": null,
            "object_position": null,
            "order": null,
            "overflow": null,
            "overflow_x": null,
            "overflow_y": null,
            "padding": null,
            "right": null,
            "top": null,
            "visibility": null,
            "width": null
          }
        },
        "a2808dfe20374ee18cf127b49e56d528": {
          "model_module": "@jupyter-widgets/base",
          "model_module_version": "1.2.0",
          "model_name": "LayoutModel",
          "state": {
            "_model_module": "@jupyter-widgets/base",
            "_model_module_version": "1.2.0",
            "_model_name": "LayoutModel",
            "_view_count": null,
            "_view_module": "@jupyter-widgets/base",
            "_view_module_version": "1.2.0",
            "_view_name": "LayoutView",
            "align_content": null,
            "align_items": null,
            "align_self": null,
            "border": null,
            "bottom": null,
            "display": null,
            "flex": null,
            "flex_flow": null,
            "grid_area": null,
            "grid_auto_columns": null,
            "grid_auto_flow": null,
            "grid_auto_rows": null,
            "grid_column": null,
            "grid_gap": null,
            "grid_row": null,
            "grid_template_areas": null,
            "grid_template_columns": null,
            "grid_template_rows": null,
            "height": null,
            "justify_content": null,
            "justify_items": null,
            "left": null,
            "margin": null,
            "max_height": null,
            "max_width": null,
            "min_height": null,
            "min_width": null,
            "object_fit": null,
            "object_position": null,
            "order": null,
            "overflow": null,
            "overflow_x": null,
            "overflow_y": null,
            "padding": null,
            "right": null,
            "top": null,
            "visibility": null,
            "width": null
          }
        },
        "a416c5428d494200813c1bc5d12829c5": {
          "model_module": "@jupyter-widgets/controls",
          "model_module_version": "1.5.0",
          "model_name": "VBoxModel",
          "state": {
            "_dom_classes": [],
            "_model_module": "@jupyter-widgets/controls",
            "_model_module_version": "1.5.0",
            "_model_name": "VBoxModel",
            "_view_count": null,
            "_view_module": "@jupyter-widgets/controls",
            "_view_module_version": "1.5.0",
            "_view_name": "VBoxView",
            "box_style": "",
            "children": [
              "IPY_MODEL_44acd01aedd8444abce793e3e9c9c354",
              "IPY_MODEL_5d8ae7c2ccda41629437dd495b33ebc6"
            ],
            "layout": "IPY_MODEL_9e970e8911ce407aa156cad76dc6ab20"
          }
        },
        "ab54a9d99bcd4720a6500ac6f0c0444a": {
          "model_module": "@jupyter-widgets/base",
          "model_module_version": "1.2.0",
          "model_name": "LayoutModel",
          "state": {
            "_model_module": "@jupyter-widgets/base",
            "_model_module_version": "1.2.0",
            "_model_name": "LayoutModel",
            "_view_count": null,
            "_view_module": "@jupyter-widgets/base",
            "_view_module_version": "1.2.0",
            "_view_name": "LayoutView",
            "align_content": null,
            "align_items": null,
            "align_self": null,
            "border": null,
            "bottom": null,
            "display": null,
            "flex": null,
            "flex_flow": null,
            "grid_area": null,
            "grid_auto_columns": null,
            "grid_auto_flow": null,
            "grid_auto_rows": null,
            "grid_column": null,
            "grid_gap": null,
            "grid_row": null,
            "grid_template_areas": null,
            "grid_template_columns": null,
            "grid_template_rows": null,
            "height": null,
            "justify_content": null,
            "justify_items": null,
            "left": null,
            "margin": null,
            "max_height": null,
            "max_width": null,
            "min_height": null,
            "min_width": null,
            "object_fit": null,
            "object_position": null,
            "order": null,
            "overflow": null,
            "overflow_x": null,
            "overflow_y": null,
            "padding": null,
            "right": null,
            "top": null,
            "visibility": null,
            "width": null
          }
        },
        "ef14e8df9f204639aee9c111844c24ee": {
          "model_module": "@jupyter-widgets/controls",
          "model_module_version": "1.5.0",
          "model_name": "FloatProgressModel",
          "state": {
            "_dom_classes": [],
            "_model_module": "@jupyter-widgets/controls",
            "_model_module_version": "1.5.0",
            "_model_name": "FloatProgressModel",
            "_view_count": null,
            "_view_module": "@jupyter-widgets/controls",
            "_view_module_version": "1.5.0",
            "_view_name": "ProgressView",
            "bar_style": "",
            "description": "",
            "description_tooltip": null,
            "layout": "IPY_MODEL_a2808dfe20374ee18cf127b49e56d528",
            "max": 1,
            "min": 0,
            "orientation": "horizontal",
            "style": "IPY_MODEL_0ebecee08b8c436bad04ab3ef44b5c87",
            "value": 0.10162849429591571
          }
        },
        "efc7b4758aee465db7dbd784f5be3a58": {
          "model_module": "@jupyter-widgets/base",
          "model_module_version": "1.2.0",
          "model_name": "LayoutModel",
          "state": {
            "_model_module": "@jupyter-widgets/base",
            "_model_module_version": "1.2.0",
            "_model_name": "LayoutModel",
            "_view_count": null,
            "_view_module": "@jupyter-widgets/base",
            "_view_module_version": "1.2.0",
            "_view_name": "LayoutView",
            "align_content": null,
            "align_items": null,
            "align_self": null,
            "border": null,
            "bottom": null,
            "display": null,
            "flex": null,
            "flex_flow": null,
            "grid_area": null,
            "grid_auto_columns": null,
            "grid_auto_flow": null,
            "grid_auto_rows": null,
            "grid_column": null,
            "grid_gap": null,
            "grid_row": null,
            "grid_template_areas": null,
            "grid_template_columns": null,
            "grid_template_rows": null,
            "height": null,
            "justify_content": null,
            "justify_items": null,
            "left": null,
            "margin": null,
            "max_height": null,
            "max_width": null,
            "min_height": null,
            "min_width": null,
            "object_fit": null,
            "object_position": null,
            "order": null,
            "overflow": null,
            "overflow_x": null,
            "overflow_y": null,
            "padding": null,
            "right": null,
            "top": null,
            "visibility": null,
            "width": null
          }
        },
        "f89a455936ca466ca2997cd88b6e686c": {
          "model_module": "@jupyter-widgets/controls",
          "model_module_version": "1.5.0",
          "model_name": "DescriptionStyleModel",
          "state": {
            "_model_module": "@jupyter-widgets/controls",
            "_model_module_version": "1.5.0",
            "_model_name": "DescriptionStyleModel",
            "_view_count": null,
            "_view_module": "@jupyter-widgets/base",
            "_view_module_version": "1.2.0",
            "_view_name": "StyleView",
            "description_width": ""
          }
        },
        "fdbd92049b434e4b831dbee532806c80": {
          "model_module": "@jupyter-widgets/controls",
          "model_module_version": "1.5.0",
          "model_name": "LabelModel",
          "state": {
            "_dom_classes": [],
            "_model_module": "@jupyter-widgets/controls",
            "_model_module_version": "1.5.0",
            "_model_name": "LabelModel",
            "_view_count": null,
            "_view_module": "@jupyter-widgets/controls",
            "_view_module_version": "1.5.0",
            "_view_name": "LabelView",
            "description": "",
            "description_tooltip": null,
            "layout": "IPY_MODEL_0e6c6e51de784bd7be74eff9bdcdfef7",
            "placeholder": "​",
            "style": "IPY_MODEL_318f585450174cfea2c76baa23bdcb0b",
            "value": "0.001 MB of 0.011 MB uploaded (0.000 MB deduped)\r"
          }
        },
        "fdf6b05d2a7c45cca3294b87d03a4826": {
          "model_module": "@jupyter-widgets/base",
          "model_module_version": "1.2.0",
          "model_name": "LayoutModel",
          "state": {
            "_model_module": "@jupyter-widgets/base",
            "_model_module_version": "1.2.0",
            "_model_name": "LayoutModel",
            "_view_count": null,
            "_view_module": "@jupyter-widgets/base",
            "_view_module_version": "1.2.0",
            "_view_name": "LayoutView",
            "align_content": null,
            "align_items": null,
            "align_self": null,
            "border": null,
            "bottom": null,
            "display": null,
            "flex": null,
            "flex_flow": null,
            "grid_area": null,
            "grid_auto_columns": null,
            "grid_auto_flow": null,
            "grid_auto_rows": null,
            "grid_column": null,
            "grid_gap": null,
            "grid_row": null,
            "grid_template_areas": null,
            "grid_template_columns": null,
            "grid_template_rows": null,
            "height": null,
            "justify_content": null,
            "justify_items": null,
            "left": null,
            "margin": null,
            "max_height": null,
            "max_width": null,
            "min_height": null,
            "min_width": null,
            "object_fit": null,
            "object_position": null,
            "order": null,
            "overflow": null,
            "overflow_x": null,
            "overflow_y": null,
            "padding": null,
            "right": null,
            "top": null,
            "visibility": null,
            "width": null
          }
        }
      }
    }
  },
  "nbformat": 4,
  "nbformat_minor": 0
}